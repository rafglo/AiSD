{
 "cells": [
  {
   "cell_type": "markdown",
   "metadata": {},
   "source": [
    "# **Lista 3** \n",
    "### Rafał Głodek\n",
    "***"
   ]
  },
  {
   "cell_type": "markdown",
   "metadata": {},
   "source": [
    "### **Zadanie 1**"
   ]
  },
  {
   "cell_type": "code",
   "execution_count": 1,
   "metadata": {},
   "outputs": [],
   "source": [
    "import ctypes #tablice niskopoziomowe\n",
    "class DynamicArray:\n",
    "    \"\"\"\n",
    "    Tablica dynamiczna\n",
    "    \"\"\"\n",
    "    def __init__(self):\n",
    "        self._n = 0 #liczba elementów\n",
    "        self._capacity = 1 #rozmiar tablicy\n",
    "        self._A = self._make_array(self._capacity) #właściwa tablica\n",
    "\n",
    "    def __len__(self): #wypisywanie listy elementów\n",
    "        return self._n \n",
    "\n",
    "    def __getitem__(self,k): #wypisywanie elementu o danym indeksie\n",
    "        if not 0 <= k < self._n:\n",
    "            raise IndexError('invalid index')\n",
    "        return self._A[k]\n",
    "\n",
    "    def append(self,obj): #dodawanie elementu do tablicy\n",
    "        if self._n == self._capacity:\n",
    "            self._resize(2*self._capacity)\n",
    "        self._A[self._n] = obj\n",
    "        self._n += 1\n",
    "\n",
    "    def _resize(self,c): #zmniejszanie/zwiększanie pojemności tablicy\n",
    "        B = self._make_array(c)\n",
    "        for k in range(self._n):\n",
    "            B[k] = self._A[k]\n",
    "        self._A = B\n",
    "        self._capacity = c\n",
    "\n",
    "    def _make_array(self,c): #tworzenie tablicy\n",
    "        return (c*ctypes.py_object)()\n",
    "    \n",
    "    def __str__(self): #wyświetlamy elementy tablicy, a miejsca puste oznaczamy jako \" \"\n",
    "        result = []\n",
    "        for j in range(self._capacity):\n",
    "            if j >= self._n: #miejsca puste\n",
    "                result.append(\" \")\n",
    "            else:\n",
    "                result.append(self._A[j]) #miejsca zajęte\n",
    "        return str(result)\n",
    "    \n",
    "    def insert(self, k, value): #dodanie elementu do tablicy na danym indeksie\n",
    "        if not 0 <= k < self._n:\n",
    "            raise IndexError('invalid index')\n",
    "        if self._n == self._capacity: #jeśli jest potrzeba, powiększamy tablicę\n",
    "            self._resize(2*self._capacity)\n",
    "        for j in range(self._n-1, k-1, -1): #przesuwamy elementy \"na prawo\" od wybranego indeksu o jedno miejsce dalej\n",
    "            self._A[j+1] = self._A[j]\n",
    "        self._A[k] = value\n",
    "        self._n += 1\n",
    "\n",
    "    def remove(self, value): #usuwanie pierwszego elementu o danej wartości\n",
    "        for k in range(self._n):\n",
    "            if self._A[k] == value:\n",
    "                for i in range(k+1, self._n): #elementy \"na prawo\" przesuywamy o jedno miejsce w lewo\n",
    "                    self._A[i-1] = self._A[i]\n",
    "                self._A[self._n-1] = None\n",
    "                self._n -= 1\n",
    "                break\n",
    "    \n",
    "    def expand(self, seq): #rozszerzanie tablicy o liste elementów\n",
    "        for value in seq:\n",
    "            self.append(value)"
   ]
  },
  {
   "cell_type": "code",
   "execution_count": 2,
   "metadata": {},
   "outputs": [
    {
     "name": "stdout",
     "output_type": "stream",
     "text": [
      "3\n",
      "5\n",
      "[1, 3, 6, 8, 9, 5, 7, 6, 67, ' ', ' ', ' ', ' ', ' ', ' ', ' ']\n"
     ]
    }
   ],
   "source": [
    "\n",
    "a = DynamicArray()\n",
    "a.append(1)\n",
    "a.append(3)\n",
    "a.append(6)\n",
    "print(a[1])\n",
    "a.insert(1,5)\n",
    "print(a[1])\n",
    "a.remove(5)\n",
    "a.append(8)\n",
    "a.append(9)\n",
    "a.expand([5,7,6,67])\n",
    "print(a)"
   ]
  },
  {
   "cell_type": "markdown",
   "metadata": {},
   "source": [
    "### **Zadanie 2**"
   ]
  },
  {
   "cell_type": "markdown",
   "metadata": {},
   "source": [
    "Hipoteza:\n",
    "Możemy przyspuszczać, że czas wykonania funkcji pop będzie malał liniowo wraz ze wzrostem indeksów, ponieważ bazowo funkcja pop() usuwa ostatni element, a przy n-elementowej liście pop(0)\n",
    "musi przejść przez całą listę.\n",
    "\n",
    "Potwierdźmy tę hipotezę eksperymentalnie, wykorzystując dużą listę jedynek."
   ]
  },
  {
   "cell_type": "code",
   "execution_count": 3,
   "metadata": {},
   "outputs": [],
   "source": [
    "import random\n",
    "def gen(start, koniec, n):\n",
    "    \"\"\"\n",
    "    Function \n",
    "    Funkcja generująca losowy ciąg n liczb\n",
    "\n",
    "    Input\n",
    "    start(integer) - początek zakresu\n",
    "    koniec(integer) - koniec zakresu\n",
    "    n(integer) - liczba wyrazów ciągu\n",
    "\n",
    "    Output \n",
    "    wynik(list) - wygenerowany ciąg\n",
    "    \"\"\"\n",
    "    wynik = []\n",
    "    for i in range(n):\n",
    "        wynik.append(random.randint(start,koniec))\n",
    "    return wynik"
   ]
  },
  {
   "cell_type": "code",
   "execution_count": 4,
   "metadata": {},
   "outputs": [],
   "source": [
    "import matplotlib.pyplot as plt\n",
    "import time\n",
    "def stoper(inds, x, arr_len):\n",
    "    \"\"\"\n",
    "    Function\n",
    "    Funkcja licząca czas wykonania funkcji pop dla różnych indeksów usuwanych elementów\n",
    "\n",
    "    Input\n",
    "    inds(list) - lista indeksów\n",
    "    x(int) - ile pomiarów chcemy wykonać dla danego indeksu\n",
    "    arr_len(int) - długość listy, z której będziemy usuwać indeksy\n",
    "\n",
    "    Output\n",
    "    time_values(list) - lista czasów\n",
    "    inds(list) - lista indeksów\n",
    "   \n",
    "    \"\"\"\n",
    "    time_values = [] \n",
    "    arr = [1 for i in range(arr_len)]\n",
    "    for ind in inds:\n",
    "        full_time = 0\n",
    "        for j in range(x):\n",
    "            start = time.time()\n",
    "            arr.pop(ind)\n",
    "            end = time.time()\n",
    "            full_time += end - start\n",
    "            arr.append(1)\n",
    "        time_values.append(full_time / x)\n",
    "    return time_values, inds\n"
   ]
  },
  {
   "cell_type": "code",
   "execution_count": 41,
   "metadata": {},
   "outputs": [
    {
     "data": {
      "image/png": "[encoded data removed]",
      "text/plain": [
       "<Figure size 640x480 with 1 Axes>"
      ]
     },
     "metadata": {},
     "output_type": "display_data"
    }
   ],
   "source": [
    "czasy, xs = stoper(range(0, 10**7, 10**6), 100, 10**7)\n",
    "plt.plot(xs, czasy, \"ro\")\n",
    "plt.xlabel(\"Indeks\")\n",
    "plt.ylabel(\"Czas wykonania\")\n",
    "plt.title(\"Eksperymentalna złożoność obliczeniowa funkcji pop\")\n",
    "plt.show()\n"
   ]
  },
  {
   "cell_type": "markdown",
   "metadata": {},
   "source": [
    "Z wykresu widzimy, że hipoteza jest potwierdzona. Czas wykonania funkcji pop maleje liniowo wraz ze zwiększaniem indeksu."
   ]
  },
  {
   "cell_type": "markdown",
   "metadata": {},
   "source": [
    "### **Zadanie 3**"
   ]
  },
  {
   "cell_type": "code",
   "execution_count": 8,
   "metadata": {},
   "outputs": [],
   "source": [
    "def array_sum(array):\n",
    "    \"\"\"\n",
    "    Function \n",
    "    Funkcja wyliczająca sumę elementów listy list\n",
    "\n",
    "    Input\n",
    "    array(list) - lista list (tablica nxn)\n",
    "\n",
    "    Output\n",
    "    result(float/int) - suma elementów tablicy \n",
    "    \"\"\"\n",
    "    result = 0\n",
    "    for arr in array:\n",
    "        result += sum(arr)\n",
    "    return result\n"
   ]
  },
  {
   "cell_type": "code",
   "execution_count": 11,
   "metadata": {},
   "outputs": [
    {
     "name": "stdout",
     "output_type": "stream",
     "text": [
      "31\n"
     ]
    }
   ],
   "source": [
    "print(array_sum([[2,3],[4,5,6,7], [1,1,1,1]]))"
   ]
  },
  {
   "cell_type": "markdown",
   "metadata": {},
   "source": [
    "### **Zadanie 4**\n"
   ]
  },
  {
   "cell_type": "code",
   "execution_count": 12,
   "metadata": {},
   "outputs": [],
   "source": [
    "def multi_append(array1, array2):\n",
    "    \"\"\"\n",
    "    Function\n",
    "    Funkcja dodająca do listy listę elementów za pomocą metody append\n",
    "\n",
    "    Input\n",
    "    array1(list) - lista, do której dodajemy elementy\n",
    "    array2(list) - lista, o którą rozszerzamy listę pierwszą\n",
    "    \n",
    "    \"\"\"\n",
    "    for num in array2:\n",
    "        array1.append(num)"
   ]
  },
  {
   "cell_type": "code",
   "execution_count": 13,
   "metadata": {},
   "outputs": [],
   "source": [
    "\n",
    "def multi_gen(ile, roznica_dlugosci, n_0):\n",
    "    \"\"\"\n",
    "    Function\n",
    "    Funkcja generująca listę list o różnych długościach\n",
    "\n",
    "    Input\n",
    "    ile(int) - ile list ma być zagnieżdżonynch w głównej liście\n",
    "    roznica_dlugosci(int) - różnica długości między kolejnymi listami\n",
    "    n_0(int) - długość pierwszej listy\n",
    "\n",
    "    Output\n",
    "    result(list) - wygenerowana lista list\n",
    "\n",
    "    \"\"\"\n",
    "    result = []\n",
    "    n = n_0\n",
    "    for i in range(ile):\n",
    "        result.append(gen(1,1,n))\n",
    "        n += roznica_dlugosci\n",
    "    return result"
   ]
  },
  {
   "cell_type": "code",
   "execution_count": 14,
   "metadata": {},
   "outputs": [],
   "source": [
    "def stoper2(arrays, x):\n",
    "    \"\"\"\n",
    "    Function\n",
    "    Funkcja mierząca czas wykonania rozszerzaia listy o listę dla metody extend i funkcji multi_append\n",
    "\n",
    "    Input\n",
    "    arrays(list) - lista list, o które będziemy rozszerzać podstawową (pustą) listę\n",
    "    x(int) - liczba pomiarów, które wykonujemy dla każdej listy\n",
    "\n",
    "    Output\n",
    "    czasy_extend(list) - czasy zmierzone dla metody extend\n",
    "    czasy_multi_append(list) - czasy zmierzone dla funkcji multi_append (wielokrotnego wywołania metody append)\n",
    "    \n",
    "    \"\"\"\n",
    "    czasy_extend = []\n",
    "    czasy_multi_append = []\n",
    "    default_array = []\n",
    "    for array in arrays:\n",
    "        full_time_extend = 0\n",
    "        full_time_multi_append = 0\n",
    "        for i in range(x):\n",
    "            start_extend = time.time()\n",
    "            default_array.extend(array)\n",
    "            end_extend = time.time()\n",
    "            default_array = []\n",
    "            start_multi_append = time.time()\n",
    "            multi_append(default_array, array)\n",
    "            end_multi_array = time.time()\n",
    "            default_array = []\n",
    "            full_time_extend += end_extend - start_extend\n",
    "            full_time_multi_append += end_multi_array - start_multi_append\n",
    "        czasy_extend.append(full_time_extend/x)\n",
    "        czasy_multi_append.append(full_time_multi_append/x)\n",
    "    return czasy_extend, czasy_multi_append\n",
    "        "
   ]
  },
  {
   "cell_type": "code",
   "execution_count": 16,
   "metadata": {},
   "outputs": [
    {
     "data": {
      "image/png": "[encoded data removed]",
      "text/plain": [
       "<Figure size 640x480 with 1 Axes>"
      ]
     },
     "metadata": {},
     "output_type": "display_data"
    }
   ],
   "source": [
    "czasy_extend, czasy_multi_append = stoper2(multi_gen(10, 10000, 100), 100)\n",
    "xs = range(10, 100000, 10000)\n",
    "plt.plot(xs, czasy_extend, \"ro\", label=\"extend\")\n",
    "plt.plot(xs, czasy_multi_append, \"bo\", label=\"multi_append\")\n",
    "plt.xlabel(\"Dlugosc listy\")\n",
    "plt.legend(loc=\"best\")\n",
    "plt.ylabel(\"Czas wykonania\")\n",
    "plt.title(\"Eksperymentalna złożoność obliczeniowa funkcji extend i multi_append\")\n",
    "plt.show()\n"
   ]
  },
  {
   "cell_type": "markdown",
   "metadata": {},
   "source": [
    "Widzimy, że różnice w czasie wykonania rozszerzania w przypadku metody extend są pomijalnie małe, a czas wykonania funkcji multi_append rośnie liniowo. Można zatem uznać, że metoda extend jest\n",
    "dużo bardziej wydajna niż wielokrotne użycie metody append."
   ]
  },
  {
   "cell_type": "markdown",
   "metadata": {},
   "source": [
    "### **Zadanie 5**"
   ]
  },
  {
   "cell_type": "code",
   "execution_count": 115,
   "metadata": {},
   "outputs": [],
   "source": [
    "class Empty(Exception):\n",
    "    pass\n",
    "\n",
    "class Queue:\n",
    "    DEFAULT_CAPACITY = 10 #bazowa pojemność\n",
    "    K = 0.25 #wspołczynnik progowy (stosunek liczby elementów w kolejce do całkowitej pamięci), przy którym będzie zwalniana pamięć\n",
    "\n",
    "    def __init__(self):\n",
    "        self._data = [None]*Queue.DEFAULT_CAPACITY #tworzymy pustą kolejkę\n",
    "        self._size = 0 #liczba elementów\n",
    "        self._front = 0 #indeks pierwszego elementu\n",
    "\n",
    "    def __len__(self):\n",
    "        return self._size\n",
    "\n",
    "    def is_empty(self):\n",
    "        return self._size == 0\n",
    "\n",
    "    def first(self):\n",
    "        if self.is_empty():\n",
    "            raise Empty('Queue is empty')\n",
    "        return self._data[self._front]\n",
    "\n",
    "    def dequeue(self):\n",
    "        if self.is_empty():\n",
    "            raise Empty('Queue is empty')\n",
    "        value = self._data[self._front]\n",
    "        self._data[self._front] = None\n",
    "        self._front = (self._front+1)%len(self._data)\n",
    "        self._size -= 1\n",
    "        if self._size <= Queue.K * len(self._data) and len(self._data) > self.DEFAULT_CAPACITY: #sprawdzamy, czy liczba elementów jest zbyt mała i dostatecznie duża do zredukowania\n",
    "            if len(self._data) // 2 > self.DEFAULT_CAPACITY: #jeśli jest dostatecznie duża, to zwalniamy połowę pamięci\n",
    "                self.resize(len(self._data) // 2)\n",
    "            else:\n",
    "                self.resize(self.DEFAULT_CAPACITY) #jeśli nie, to zwalniamy tyle pamięć do wartości podstawowej\n",
    "        return value\n",
    "\n",
    "    def enqueue(self,e):\n",
    "        if self._size == len(self._data):\n",
    "            self.resize(2*len(self._data))\n",
    "        avail = (self._front + self._size)%len(self._data)\n",
    "        self._data[avail] = e\n",
    "        self._size += 1\n",
    "\n",
    "    def resize(self,cap):\n",
    "        old = self._data\n",
    "        self._data = [None]*cap\n",
    "        walk = self._front\n",
    "        for k in range(self._size): #only existing elements\n",
    "            self._data[k] = old[walk]\n",
    "            walk = (1 + walk)%len(old)\n",
    "        self._front = 0 \n",
    "\n",
    "    def __str__(self):\n",
    "        result = []\n",
    "        for i in range(len(self._data)):\n",
    "            if self._data[(self._front + i)%len(self._data)] is None:\n",
    "                result.append(\" \")\n",
    "            else:\n",
    "                result.append(self._data[(self._front + i)%len(self._data)])\n",
    "        return str(result)\n",
    "    "
   ]
  },
  {
   "cell_type": "code",
   "execution_count": 118,
   "metadata": {},
   "outputs": [
    {
     "name": "stdout",
     "output_type": "stream",
     "text": [
      "[1, 1, 1, 1, 1, 1, 1, 1, 1, 1, 1, 1, 1, 1, 1, 1, 1, 1, 1, 1, 1, 1, 1, 1, 1, 1, 1, 1, 1, 1, 1, 1, 1, 1, 1, 1, 1, 1, 1, 1, 1, 1, 1, 1, 1, 1, 1, 1, 1, 1, 1, 1, 1, 1, 1, 1, 1, 1, 1, 1, ' ', ' ', ' ', ' ', ' ', ' ', ' ', ' ', ' ', ' ', ' ', ' ', ' ', ' ', ' ', ' ', ' ', ' ', ' ', ' ']\n",
      "[1, 1, 1, 1, 1, 1, 1, 1, 1, 1, 1, 1, 1, 1, ' ', ' ', ' ', ' ', ' ', ' ', ' ', ' ', ' ', ' ', ' ', ' ', ' ', ' ', ' ', ' ', ' ', ' ', ' ', ' ', ' ', ' ', ' ', ' ', ' ', ' ']\n"
     ]
    }
   ],
   "source": [
    "q = Queue()\n",
    "for i in range(60):\n",
    "    q.enqueue(1)\n",
    "print(q)\n",
    "for i in range(46):\n",
    "    q.dequeue()\n",
    "print(q)"
   ]
  },
  {
   "cell_type": "markdown",
   "metadata": {},
   "source": [
    "### **Zadanie 6**"
   ]
  },
  {
   "cell_type": "code",
   "execution_count": 73,
   "metadata": {},
   "outputs": [],
   "source": [
    "class Deque():\n",
    "    DEFAULT_CAPACITY = 10 #bazowa pojemność\n",
    "\n",
    "    def __init__(self):\n",
    "        self.data = [None] * Deque.DEFAULT_CAPACITY #tworzymy pustą kolejkę\n",
    "        self.size = 0 #liczba elementów\n",
    "        self.front = 0 #indeks pierwszego elementu\n",
    "        self.end = self.size - 1 #indeks ostatniego elementu\n",
    "\n",
    "    def __len__(self): #zwraca wielkość\n",
    "        return self.size\n",
    "    \n",
    "    def is_empty(self): #zwraca, czy kolejka jest pusta\n",
    "        return self.size == 0\n",
    "    \n",
    "    def first(self): #zwraca pierwszy element w kolejce\n",
    "        if self.is_empty():\n",
    "            raise Empty(\"Deque is empty\")\n",
    "        else:\n",
    "            return self.data[self.front]\n",
    "    \n",
    "    def last(self): #zwraca ostatni element w kolejce\n",
    "        if self.is_empty():\n",
    "            raise Empty(\"Deque is empty\")\n",
    "        else:\n",
    "            return self.data[self.end]\n",
    "        \n",
    "    def resize(self, cap): #rozszerza/zmniejsza pojemność\n",
    "        old = self.data #kopiujemy starą kolejkę\n",
    "        self.data = [None] * cap #tworzymy nową pustą\n",
    "        walk = self.front #pierwszy element\n",
    "        for i in range(self.size): #umieszczamy na poczzatku nowej kolejki stare wartości, zaczynając od elementu pierwszego\n",
    "            self.data[i] = old[walk]\n",
    "            walk = (walk + 1) % len(old)\n",
    "        self.front = 0 #ustalamy, że początkowy indeks jest znów 0\n",
    "        self.end = self.size - 1 #końcowy indeks, będzie miejscem ostatniego istniejącego elementu\n",
    "        \n",
    "    def add_first(self, item): #dodawanie elementu na początek kolejki\n",
    "        if self.size == len(self.data): #jeśli jest potrzeba, zwiększamy pojemność\n",
    "            self.resize(2*len(self.data))\n",
    "        avail = (self.front - 1) % len(self.data) #indeks elementu dodawanego\n",
    "        self.data[avail] = item #dodajemy element w ustalone miejsce\n",
    "        self.front = avail #ustawiamy indeks początkowy w miejsce dodanego elementu\n",
    "        self.size += 1 #zwiększamy rozmiar\n",
    "\n",
    "    def add_last(self, item): #dodawanie elementu na koniec kolejki (analogicznie do wyżej)\n",
    "        if self.size == len(self.data):\n",
    "            self.resize(2*len(self.data))\n",
    "        avail = (self.front + self.size) % len(self.data) \n",
    "        self.data[avail] = item\n",
    "        self.end = avail\n",
    "        self.size += 1\n",
    "\n",
    "    def __str__(self): #wyswietlanie kolejki\n",
    "        result = []\n",
    "        for i in range(len(self.data)): #idziemy po istniejących elementach, zaczynając od pierwszego\n",
    "            if self.data[(self.front + i)%len(self.data)] is None: #jesli element nie istnieje, to wyświetlamy \" \"\n",
    "                result.append(\" \")\n",
    "            else:\n",
    "                result.append(self.data[(self.front + i)%len(self.data)]) #jeśli istnieje, wyświetlamy go\n",
    "        return str(result)\n",
    "    \n",
    "    def delete_first(self): #usuwanie pierwszego elementu\n",
    "        if self.is_empty():\n",
    "            raise Empty('Deque is empty')\n",
    "        value = self.data[self.front] #wartość, którą będziemy usuwać\n",
    "        self.data[self.front] = None\n",
    "        self.front = (self.front + 1) % len(self.data) #nowy indeks początkowy\n",
    "        self.size -= 1 #zmniejszamy rozmiar\n",
    "        return value \n",
    "    \n",
    "    def delete_last(self): #usuwanie ostatniego elementu\n",
    "        if self.is_empty():\n",
    "            raise Empty('Deque is empty')\n",
    "        value = self.data[self.end] #usuwany element\n",
    "        self.data[self.end] = None\n",
    "        self.end = (self.end - 1) % len(self.data) #nowy indeks końcowy\n",
    "        self.size -= 1 #zmniejszamy rozmiar\n",
    "        return value "
   ]
  },
  {
   "cell_type": "code",
   "execution_count": 74,
   "metadata": {},
   "outputs": [
    {
     "name": "stdout",
     "output_type": "stream",
     "text": [
      "5\n",
      "2\n",
      "[5, 5, 5, 5, 5, 1, 3, 8, 3, 8, 2, ' ', ' ', ' ', ' ', ' ', ' ', ' ', ' ', ' ']\n"
     ]
    }
   ],
   "source": [
    "d = Deque()\n",
    "d.add_first(1)\n",
    "d.add_first(5)\n",
    "d.add_last(3)\n",
    "d.add_first(5)\n",
    "d.add_last(8)\n",
    "d.add_first(5)\n",
    "d.add_last(3)\n",
    "d.add_first(5)\n",
    "d.add_last(8)\n",
    "d.add_first(5)\n",
    "d.add_last(2)\n",
    "print(d.first())\n",
    "print(d.last())\n",
    "print(d)"
   ]
  },
  {
   "cell_type": "markdown",
   "metadata": {},
   "source": [
    "### **Zadanie 7**"
   ]
  },
  {
   "cell_type": "code",
   "execution_count": 21,
   "metadata": {},
   "outputs": [],
   "source": [
    "class Stack: #stos wzięty z wykładu\n",
    "    def __init__(self):\n",
    "        self._data = [] #nowy pusty stos\n",
    "\n",
    "    def __len__(self):\n",
    "        return len(self._data)\n",
    "\n",
    "    def is_empty(self):\n",
    "        return len(self._data)==0\n",
    "\n",
    "    def push(self,e):\n",
    "        self._data.append(e)\n",
    "\n",
    "    def top(self):\n",
    "        if self.is_empty():\n",
    "            raise Empty('Stack is empty')\n",
    "        return self._data[-1]\n",
    "\n",
    "    def pop(self):\n",
    "        if self.is_empty():\n",
    "            raise Empty('Stack is empty')\n",
    "        return self._data.pop() \n",
    "    \n",
    "    def __str__(self):\n",
    "        return str(self._data)"
   ]
  },
  {
   "cell_type": "code",
   "execution_count": 29,
   "metadata": {},
   "outputs": [],
   "source": [
    "def tag_checker(text):\n",
    "    \"\"\"\n",
    "    Function\n",
    "    Funkcja sprawdzająca poprawność tagów zamykających\n",
    "\n",
    "    Input\n",
    "    text(string) - kod html\n",
    "\n",
    "    Output\n",
    "    True(bool) - jeśli tagi zamykające zostały użyte poprawnie\n",
    "    S.top()(string) - jeśli tagi nie zostały użyte poprawnie, zwraca nazwę tagu, który nie został zamknięty\n",
    "    \n",
    "    \"\"\"\n",
    "    voids = [\"hr\", \"area\", \"base\", \"br\", \"col\", \"command\", \"embed\", \"img\", \"input\", \"keygen\", \"link\", \"meta\", \"param\", \"source\", \"track\", \"wbr\", \"img\"]\n",
    "    left_o = \"<\"\n",
    "    right = \">\"\n",
    "    S = Stack()\n",
    "    for i in range(len(text) - 1):\n",
    "        if text[i] == left_o and text[i+1] != \"/\" and text[i+1] != \"!\":\n",
    "            tag_name = \"\"\n",
    "            j = i + 1\n",
    "            while text[j] != right and text[j] != \" \":\n",
    "                tag_name += text[j].lower()\n",
    "                j += 1\n",
    "            else:\n",
    "                if not tag_name in voids:\n",
    "                    if tag_name[:11] != \"view-source\":\n",
    "                        S.push(tag_name)\n",
    "\n",
    "        elif text[i] == left_o and text[i+1] == \"/\" and text[i+1] != \"!\":\n",
    "            tag_name = \"\"\n",
    "            j = i + 2\n",
    "            while text[j] != right and text[j] != \" \":\n",
    "                tag_name += text[j].lower()\n",
    "                j += 1\n",
    "            else:\n",
    "                if tag_name == S.top():\n",
    "                    S.pop()\n",
    "\n",
    "    if S.is_empty():\n",
    "        return True\n",
    "    else:\n",
    "        return S.top()\n",
    "    "
   ]
  },
  {
   "cell_type": "code",
   "execution_count": 23,
   "metadata": {},
   "outputs": [],
   "source": [
    "sample1 = open(r\"C:\\Users\\Rafal\\OneDrive\\Dokumenty\\GitHub\\AiSD\\lista3\\HTML_sample1.txt\").read()\n",
    "sample2 = open(r\"C:\\Users\\Rafal\\OneDrive\\Dokumenty\\GitHub\\AiSD\\lista3\\HTML_sample2.txt\").read()\n",
    "sample3 = open(r\"C:\\Users\\Rafal\\OneDrive\\Dokumenty\\GitHub\\AiSD\\lista3\\HTML_sample3.txt\").read()\n"
   ]
  },
  {
   "cell_type": "code",
   "execution_count": 30,
   "metadata": {},
   "outputs": [
    {
     "name": "stdout",
     "output_type": "stream",
     "text": [
      "True\n",
      "html\n",
      "table\n"
     ]
    }
   ],
   "source": [
    "print(tag_checker(sample1))\n",
    "print(tag_checker(sample2))\n",
    "print(tag_checker(sample3))"
   ]
  },
  {
   "cell_type": "markdown",
   "metadata": {},
   "source": [
    "### **Zadanie 8**"
   ]
  },
  {
   "cell_type": "code",
   "execution_count": 35,
   "metadata": {},
   "outputs": [],
   "source": [
    "import math\n",
    "def permutation(array):\n",
    "    \"\"\"\n",
    "    Function\n",
    "    Funkcja zwracająca wszystkie permutacje n elementowej listy\n",
    "\n",
    "    Input\n",
    "    array(list) - lista, której permutacje chcemy otrzymać\n",
    "\n",
    "    Output\n",
    "    S1/S2(list) - permutacje danej listy\n",
    "    \"\"\"\n",
    "    S1 = Stack()\n",
    "    S2 = Stack()\n",
    "        \n",
    "    for i in range(len(array)):\n",
    "        S1.push([array[i]])\n",
    "\n",
    "    while True:\n",
    "\n",
    "        while not S1.is_empty():\n",
    "            cur_top = S1.top()\n",
    "            for num in array:\n",
    "                a = cur_top.copy()\n",
    "                if not num in a:\n",
    "                    a.append(num)\n",
    "                    S2.push(a)\n",
    "            S1.pop()\n",
    "\n",
    "        if len(S1) == math.factorial(len(array)) and len(S1.top()) == len(array):\n",
    "            return S1\n",
    "        elif len(S2) == math.factorial(len(array)) and len(S2.top()) == len(array):\n",
    "            return S2\n",
    "        \n",
    "        \n",
    "        while not S2.is_empty():\n",
    "            cur_top = S2.top()\n",
    "            for num in array:\n",
    "                a = cur_top.copy()\n",
    "                if not num in a:\n",
    "                    a.append(num)\n",
    "                    S1.push(a)\n",
    "            S2.pop()\n",
    "\n",
    "        if len(S1) == math.factorial(len(array)) and len(S1.top()) == len(array):\n",
    "            return S1\n",
    "        elif len(S2) == math.factorial(len(array)) and len(S2.top()) == len(array):\n",
    "            return S2\n",
    "        "
   ]
  },
  {
   "cell_type": "code",
   "execution_count": 36,
   "metadata": {},
   "outputs": [
    {
     "name": "stdout",
     "output_type": "stream",
     "text": [
      "[[4, 1, 3, 2], [4, 1, 2, 3], [4, 2, 3, 1], [4, 2, 1, 3], [4, 3, 2, 1], [4, 3, 1, 2], [3, 1, 4, 2], [3, 1, 2, 4], [3, 2, 4, 1], [3, 2, 1, 4], [3, 4, 2, 1], [3, 4, 1, 2], [2, 1, 4, 3], [2, 1, 3, 4], [2, 3, 4, 1], [2, 3, 1, 4], [2, 4, 3, 1], [2, 4, 1, 3], [1, 2, 4, 3], [1, 2, 3, 4], [1, 3, 4, 2], [1, 3, 2, 4], [1, 4, 3, 2], [1, 4, 2, 3]]\n"
     ]
    }
   ],
   "source": [
    "print(permutation([1,2,3,4]))"
   ]
  },
  {
   "cell_type": "markdown",
   "metadata": {},
   "source": [
    "### **Zadanie 9**"
   ]
  },
  {
   "cell_type": "code",
   "execution_count": 37,
   "metadata": {},
   "outputs": [],
   "source": [
    "class Stack_using_queue(): #Stos zaimplementowany za pomocą kolejki\n",
    "\n",
    "    def __init__(self):\n",
    "        self.queue = Queue() #tworzymy kolejkę, na której będziemy pracować\n",
    "\n",
    "    def __len__(self):\n",
    "        return len(self.queue) #liczba elementów\n",
    "    \n",
    "    def is_empty(self):\n",
    "        return self.queue.is_empty() #czy pusty\n",
    "    \n",
    "    def push(self, value): #dodawanie elementu do stosu\n",
    "        self.queue.enqueue(value) #dodajemy wartość do kolejki\n",
    "        for i in range(len(self.queue) - 1): #usuwamy i dodajemy wszystkie elementy kolejki, żeby przerzucić value do przodu (na górę)\n",
    "            val = self.queue.dequeue()\n",
    "            self.queue.enqueue(val)\n",
    "        \n",
    "    def top(self): #zwraca pierwszy (górny) element\n",
    "        if self.is_empty():\n",
    "            raise Empty(\"Stack is empty\")\n",
    "        else:\n",
    "            return self.queue.first()\n",
    "    \n",
    "    def pop(self): #usuwanie elementu z góry jest analogiczne do usuwania elementu z przodu\n",
    "        if self.is_empty():\n",
    "            raise Empty('Stack is empty')\n",
    "        else:\n",
    "            return self.queue.dequeue()\n",
    "    \n",
    "    def __str__(self): #wizualizacja stosu (lewa strona = góra)\n",
    "        return str(self.queue)"
   ]
  },
  {
   "cell_type": "markdown",
   "metadata": {},
   "source": [
    "Push dla kolejki n-elementowej wymaga zdekolejkowania n-1 i zakolejkowania n elementów, więc złożoność tej metody będzie wynosiła O(n).\n",
    "\n",
    "Pop oraz top działają standardowo, jak dla kolejki, zatem ich zlożoność to O(1) "
   ]
  },
  {
   "cell_type": "code",
   "execution_count": 38,
   "metadata": {},
   "outputs": [
    {
     "name": "stdout",
     "output_type": "stream",
     "text": [
      "[4, ' ']\n"
     ]
    }
   ],
   "source": [
    "s = Stack_using_queue()\n",
    "s.push(4)\n",
    "s.push(9)\n",
    "s.pop()\n",
    "print(s)"
   ]
  },
  {
   "cell_type": "markdown",
   "metadata": {},
   "source": [
    "### **Zadanie 10**"
   ]
  },
  {
   "cell_type": "code",
   "execution_count": 84,
   "metadata": {},
   "outputs": [],
   "source": [
    "class Queue_using_two_stacks(): #kolejka zaimplementowana za pomocą dwóch stosów\n",
    "\n",
    "    def __init__(self): #tworzymy stosy, na których będziemy pracować (s1 reprezentuje kolejkę, s2 jest pomocniczy)\n",
    "        self.s1 = Stack()\n",
    "        self.s2 = Stack()\n",
    "\n",
    "    def is_empty(self): #czy jest pusta\n",
    "        return self.s1.is_empty() \n",
    "\n",
    "    def enqueue(self, value): #zakolejkowanie elementu\n",
    "        for i in range(len(self.s1)): #najpierw przerzucamy wszystkie elementy z s1 na s2\n",
    "            self.s2.push(self.s1.pop())\n",
    "        self.s1.push(value) #dodajemy na dół s1 wartość\n",
    "        for i in range(len(self.s2)): #przerzucamy wszystkie elementy z powrotem do s1\n",
    "            self.s1.push(self.s2.pop())\n",
    "    \n",
    "    def dequeue(self): #jako, że przód kolejki jest na górze stosu, to \"dekolejkowanie\" jest usuwaniem górnego elementu\n",
    "        if self.is_empty():\n",
    "            raise Empty('Stack is empty')\n",
    "        else:\n",
    "            self.s1.pop()\n",
    "    \n",
    "    def __len__(self): #liczba elementów\n",
    "        return(len(self.s1))\n",
    "\n",
    "    def first(self): #pierwszy element\n",
    "        if self.is_empty():\n",
    "            raise Empty('Stack is empty')\n",
    "        else:\n",
    "            return self.s1.top()\n",
    "        \n",
    "    def __str__(self): #wyświetlanie kolejki\n",
    "        return str(self.s1)"
   ]
  },
  {
   "cell_type": "code",
   "execution_count": 91,
   "metadata": {},
   "outputs": [
    {
     "name": "stdout",
     "output_type": "stream",
     "text": [
      "3\n",
      "[1, 5]\n"
     ]
    }
   ],
   "source": [
    "a = Queue_using_two_stacks()\n",
    "a.enqueue(3)\n",
    "a.enqueue(1)\n",
    "a.enqueue(5)\n",
    "print(a.first())\n",
    "a.dequeue()\n",
    "print(a)\n"
   ]
  }
 ],
 "metadata": {
  "kernelspec": {
   "display_name": "Python 3",
   "language": "python",
   "name": "python3"
  },
  "language_info": {
   "codemirror_mode": {
    "name": "ipython",
    "version": 3
   },
   "file_extension": ".py",
   "mimetype": "text/x-python",
   "name": "python",
   "nbconvert_exporter": "python",
   "pygments_lexer": "ipython3",
   "version": "3.8.0"
  }
 },
 "nbformat": 4,
 "nbformat_minor": 2
}
