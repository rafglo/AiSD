{
 "cells": [
  {
   "cell_type": "markdown",
   "metadata": {},
   "source": [
    "# **Lista 5** \n",
    "### Rafał Głodek\n",
    "***"
   ]
  },
  {
   "cell_type": "markdown",
   "metadata": {},
   "source": [
    "Zadanie 1"
   ]
  },
  {
   "cell_type": "code",
   "execution_count": 3,
   "metadata": {},
   "outputs": [],
   "source": [
    "def mix_func1(i):\n",
    "    return (3 * i + 5) % 11"
   ]
  },
  {
   "cell_type": "code",
   "execution_count": 4,
   "metadata": {},
   "outputs": [],
   "source": [
    "input = [12, 44, 13, 88, 23, 94, 11, 39, 20, 16, 5]"
   ]
  },
  {
   "cell_type": "code",
   "execution_count": 5,
   "metadata": {},
   "outputs": [],
   "source": [
    "def chain_rule(func, arr, size):\n",
    "    hash_table = [[] for i in range(size)]\n",
    "    for num in arr:\n",
    "        h = func(num)\n",
    "        hash_table[h].append(num)\n",
    "    return hash_table"
   ]
  },
  {
   "cell_type": "code",
   "execution_count": 6,
   "metadata": {},
   "outputs": [
    {
     "name": "stdout",
     "output_type": "stream",
     "text": [
      "[[13], [94, 39], [], [], [], [44, 88, 11], [], [], [12, 23], [16, 5], [20]]\n"
     ]
    }
   ],
   "source": [
    "print(chain_rule(mix_func1, input, 11))"
   ]
  },
  {
   "cell_type": "markdown",
   "metadata": {},
   "source": [
    "Zadanie 2"
   ]
  },
  {
   "cell_type": "code",
   "execution_count": 8,
   "metadata": {},
   "outputs": [],
   "source": [
    "def rehash(pos, size):\n",
    "    return ((pos + 1) % size)"
   ]
  },
  {
   "cell_type": "code",
   "execution_count": 13,
   "metadata": {},
   "outputs": [],
   "source": [
    "def linear_probing(func, arr, size):\n",
    "    hash_table = [[] for i in range(size)]\n",
    "    for num in arr:\n",
    "        h = func(num)\n",
    "        while len(hash_table[h]) != 0:\n",
    "            h = rehash(h, size)\n",
    "        hash_table[h].append(num)\n",
    "    return hash_table"
   ]
  },
  {
   "cell_type": "code",
   "execution_count": 14,
   "metadata": {},
   "outputs": [
    {
     "name": "stdout",
     "output_type": "stream",
     "text": [
      "[[13], [94], [39], [16], [5], [44], [88], [11], [12], [23], [20]]\n"
     ]
    }
   ],
   "source": [
    "print(linear_probing(mix_func1, input, 11))"
   ]
  },
  {
   "cell_type": "markdown",
   "metadata": {},
   "source": [
    "Zadanie 3"
   ]
  },
  {
   "cell_type": "code",
   "execution_count": 15,
   "metadata": {},
   "outputs": [],
   "source": [
    "def mix_func2(i):\n",
    "    return (7 - (i % 7))\n"
   ]
  },
  {
   "cell_type": "code",
   "execution_count": 19,
   "metadata": {},
   "outputs": [],
   "source": [
    "def func_collision(func, arr, size):\n",
    "    hash_table = [[] for i in range(size)]\n",
    "    for num in arr:\n",
    "        h = func(num)\n",
    "        if len(hash_table[h]) != 0:\n",
    "            h = mix_func2(h)\n",
    "        hash_table[h].append(num)\n",
    "    return hash_table"
   ]
  },
  {
   "cell_type": "code",
   "execution_count": 20,
   "metadata": {},
   "outputs": [
    {
     "name": "stdout",
     "output_type": "stream",
     "text": [
      "[[13], [94], [88, 11], [], [], [44, 5], [23, 39], [], [12], [16], [20]]\n"
     ]
    }
   ],
   "source": [
    "print(func_collision(mix_func1, input, 11))"
   ]
  }
 ],
 "metadata": {
  "kernelspec": {
   "display_name": "Python 3",
   "language": "python",
   "name": "python3"
  },
  "language_info": {
   "codemirror_mode": {
    "name": "ipython",
    "version": 3
   },
   "file_extension": ".py",
   "mimetype": "text/x-python",
   "name": "python",
   "nbconvert_exporter": "python",
   "pygments_lexer": "ipython3",
   "version": "3.8.0"
  }
 },
 "nbformat": 4,
 "nbformat_minor": 2
}
