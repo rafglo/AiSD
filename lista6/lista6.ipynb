{
 "cells": [
  {
   "cell_type": "markdown",
   "metadata": {},
   "source": [
    "# **Lista 5** \n",
    "### Rafał Głodek\n",
    "***"
   ]
  },
  {
   "cell_type": "markdown",
   "metadata": {},
   "source": [
    "Zadanie 1"
   ]
  },
  {
   "cell_type": "code",
   "execution_count": 1,
   "metadata": {},
   "outputs": [],
   "source": [
    "class Vertex():\n",
    "    def __init__(self, key):\n",
    "        self.id = key\n",
    "        self.neighbors = {}\n",
    "\n",
    "    def add_neighbor(self, value, weight):\n",
    "        self.neighbors[value] = weight\n",
    "    \n",
    "    def __str__(self):\n",
    "        return \"Node: \" + str(self.id) + \" Neighbors: \" + str([i.id for i in self.neigbors])\n",
    "\n",
    "    def get_neighbors(self):\n",
    "        return [i.id for i in self.neighbors]\n",
    "    \n",
    "    def get_id(self):\n",
    "        return self.id\n",
    "    \n",
    "    def get_weight(self, neighbor):\n",
    "        return self.neighbors[neighbor]\n",
    "\n",
    "\n"
   ]
  },
  {
   "cell_type": "code",
   "execution_count": 9,
   "metadata": {},
   "outputs": [],
   "source": [
    "class Graph(Vertex):\n",
    "    def __init__(self):\n",
    "        self.vertices = {}\n",
    "        self.size = 0\n",
    "\n",
    "    def add_vertex(self, vert_key):\n",
    "        vertex = Vertex(vert_key)\n",
    "        self.vertices[vert_key] = vertex\n",
    "        self.size += 1\n",
    "        return vertex\n",
    "    \n",
    "    def __contains__(self, vert_key):\n",
    "        return vert_key in self.vertices\n",
    "    \n",
    "    def vertex(self, vert_key):\n",
    "        if vert_key in self.vertices:\n",
    "            return self.vertices[vert_key]\n",
    "        else:\n",
    "            return None\n",
    "        \n",
    "    def get_neighbors(self, vert_key):\n",
    "        if vert_key in self.vertices:\n",
    "            return self.vertices[vert_key].get_neighbors()\n",
    "        else:\n",
    "            return None\n",
    "\n",
    "    def get_vertices(self):\n",
    "        return [x for x in self.vertices]\n",
    "    \n",
    "    def add_edge(self, from_key, to_key, weight=0):\n",
    "        if from_key not in self.vertices:\n",
    "            self.add_vertex(from_key)\n",
    "        if to_key not in self.vertices:\n",
    "            self.add_vertex(to_key)\n",
    "        self.vertices[from_key].add_neighbor(self.vertices[to_key], weight)\n",
    "    \n",
    "    def get_edges(self):\n",
    "        edges = {}\n",
    "        for vert in self.vertices:\n",
    "            neighbors = self.vertices[vert].get_neighbors()\n",
    "            if not neighbors is None:\n",
    "                for n in neighbors:\n",
    "                    edges[vert] = n\n"
   ]
  },
  {
   "cell_type": "code",
   "execution_count": 10,
   "metadata": {},
   "outputs": [
    {
     "name": "stdout",
     "output_type": "stream",
     "text": [
      "None\n"
     ]
    }
   ],
   "source": [
    "g = Graph()\n",
    "g.add_vertex(\"a\")\n",
    "g.add_edge(\"a\", \"b\")\n",
    "print(g.get_edges())"
   ]
  }
 ],
 "metadata": {
  "kernelspec": {
   "display_name": "Python 3",
   "language": "python",
   "name": "python3"
  },
  "language_info": {
   "codemirror_mode": {
    "name": "ipython",
    "version": 3
   },
   "file_extension": ".py",
   "mimetype": "text/x-python",
   "name": "python",
   "nbconvert_exporter": "python",
   "pygments_lexer": "ipython3",
   "version": "3.8.0"
  }
 },
 "nbformat": 4,
 "nbformat_minor": 2
}
