{
 "cells": [
  {
   "cell_type": "markdown",
   "metadata": {},
   "source": [
    "# **Lista 5** \n",
    "### Rafał Głodek\n",
    "***"
   ]
  },
  {
   "cell_type": "markdown",
   "metadata": {},
   "source": [
    "Zadanie 1"
   ]
  },
  {
   "cell_type": "code",
   "execution_count": 2,
   "metadata": {},
   "outputs": [],
   "source": [
    "import graphviz, sys"
   ]
  },
  {
   "cell_type": "code",
   "execution_count": 82,
   "metadata": {},
   "outputs": [],
   "source": [
    "class Vertex():\n",
    "    def __init__(self, key):\n",
    "        self.id = key\n",
    "        self.neighbors = {}\n",
    "\n",
    "    def add_neighbor(self, value, weight):\n",
    "        self.neighbors[value] = weight\n",
    "    \n",
    "    def __str__(self):\n",
    "        return \"Node: \" + str(self.id) + \" Neighbors: \" + str([i.id for i in self.neigbors])\n",
    "\n",
    "    def get_neighbors(self):\n",
    "        return [i.id for i in self.neighbors]\n",
    "    \n",
    "    def get_id(self):\n",
    "        return self.id\n",
    "    \n",
    "    def get_weight(self, neighbor):\n",
    "        return self.neighbors[neighbor]\n",
    "\n",
    "    def set_distance(self, d):\n",
    "        self.dist = d\n",
    "    \n",
    "    def get_distance(self):\n",
    "        return self.dist\n",
    "    \n",
    "    def set_pred(self,p):\n",
    "        self.pred = p\n",
    "\n",
    "    def get_pred(self):\n",
    "        return self.pred"
   ]
  },
  {
   "cell_type": "code",
   "execution_count": 4,
   "metadata": {},
   "outputs": [],
   "source": [
    "from collections import deque"
   ]
  },
  {
   "cell_type": "code",
   "execution_count": 85,
   "metadata": {},
   "outputs": [],
   "source": [
    "class Graph(Vertex):\n",
    "    def __init__(self):\n",
    "        self.vertices = {}\n",
    "        self.size = 0\n",
    "\n",
    "    def add_vertex(self, vert_key):\n",
    "        vertex = Vertex(vert_key)\n",
    "        self.vertices[vert_key] = vertex\n",
    "        self.size += 1\n",
    "        return vertex\n",
    "    \n",
    "    def __contains__(self, vert_key):\n",
    "        return vert_key in self.vertices\n",
    "    \n",
    "    def vertex(self, vert_key):\n",
    "        if vert_key in self.vertices:\n",
    "            return self.vertices[vert_key]\n",
    "        else:\n",
    "            return None\n",
    "        \n",
    "    def get_neighbors(self, vert_key):\n",
    "        if vert_key in self.vertices:\n",
    "            return self.vertices[vert_key].get_neighbors()\n",
    "        else:\n",
    "            return None\n",
    "\n",
    "    def get_vertices(self):\n",
    "        return [x for x in self.vertices]\n",
    "    \n",
    "    def add_edge(self, from_key, to_key, weight=0):\n",
    "        if from_key not in self.vertices:\n",
    "            self.add_vertex(from_key)\n",
    "        if to_key not in self.vertices:\n",
    "            self.add_vertex(to_key)\n",
    "        self.vertices[from_key].add_neighbor(self.vertices[to_key], weight)\n",
    "    \n",
    "    def get_edges(self):\n",
    "        edges = []\n",
    "        for vert in self.vertices:\n",
    "            neighbors = self.vertices[vert].get_neighbors()\n",
    "            if not neighbors is None:\n",
    "                for n in neighbors:\n",
    "                    edges.append([str(vert), str(n)])\n",
    "        return edges\n",
    "    \n",
    "    def visualize(self):\n",
    "        dot = graphviz.Digraph()\n",
    "        for vert in self.vertices:\n",
    "            dot.node(str(vert), str(vert))\n",
    "        for edge in self.get_edges():\n",
    "            dot.edge(str(edge[0]), str(edge[1]))\n",
    "        return dot\n",
    "        \n",
    "    def bfs(self, start):\n",
    "        visited = [start]\n",
    "        self.vertices[start].set_distance(0)\n",
    "        self.vertices[start].set_pred(None)\n",
    "        q = []\n",
    "        q.append(start)\n",
    "        while len(q):\n",
    "            vert = q.pop(0)\n",
    "            neighbors = self.vertices[vert].get_neighbors()\n",
    "            for neighbor in neighbors:\n",
    "                if not neighbor in visited:\n",
    "                    q.append(neighbor)\n",
    "                    visited.append(neighbor)\n",
    "                    self.vertices[neighbor].set_distance(self.vertices[vert].get_distance() + 1)\n",
    "                    self.vertices[neighbor].set_pred(vert)\n",
    "\n",
    "        dists = []\n",
    "        preds = []\n",
    "        for vert in visited:\n",
    "            preds1 = [vert]\n",
    "            dists.append(self.vertices[vert].get_distance())\n",
    "            pred = self.vertices[vert].get_pred()\n",
    "            while pred != None:\n",
    "                preds1.append(pred)\n",
    "                pred = self.vertices[pred].get_pred()\n",
    "            preds.append(preds1[::-1])\n",
    "\n",
    "        return visited, dists, preds\n",
    "\n",
    "    def dfs(self, start, visited = []):\n",
    "        if not start in visited:\n",
    "            visited.append(start)\n",
    "        neighbors = self.vertices[start].get_neighbors()\n",
    "        for neighbor in neighbors:\n",
    "            if not neighbor in visited:\n",
    "                self.dfs(neighbor, visited)\n",
    "        return visited\n",
    "\n",
    "    def dfs_topological_sort(self, start, stack, visited = []):\n",
    "        if not start in visited:\n",
    "            visited.append(start)\n",
    "        neighbors = self.vertices[start].get_neighbors()\n",
    "        for neighbor in neighbors:\n",
    "            if not neighbor in visited:\n",
    "                self.dfs_topological_sort(neighbor, stack, visited)\n",
    "        stack.append(start)\n",
    "\n",
    "    def topological_sort(self):\n",
    "        visited = []\n",
    "        stack = []\n",
    "\n",
    "        for vert in self.get_vertices():\n",
    "            if not vert in visited:\n",
    "                self.dfs_topological_sort(vert, stack, visited)\n",
    "        \n",
    "        return stack[::-1]\n",
    "    \n",
    "    def shortest_paths(self, vert):\n",
    "        verts, dists, paths = self.bfs(vert)\n",
    "        for i in range(len(verts)):\n",
    "            path = \"\"\n",
    "            for j in range(len(paths[i])):\n",
    "                if j != len(paths[i]) - 1:\n",
    "                    path += str(paths[i][j]) + \" -> \"\n",
    "                else:\n",
    "                    path += str(paths[i][j])\n",
    "            print(\"Shortest distance from \" + str(vert) + \" to \" + str(verts[i]) + \" is \" + str(dists[i]) + \". Path: \" + path)\n",
    "        "
   ]
  },
  {
   "cell_type": "code",
   "execution_count": 86,
   "metadata": {},
   "outputs": [
    {
     "name": "stdout",
     "output_type": "stream",
     "text": [
      "[['0', '1'], ['1', '12'], ['2', '0'], ['2', '3'], ['2', '1'], ['3', '4'], ['4', '7'], ['4', '12'], ['7', '8']]\n"
     ]
    }
   ],
   "source": [
    "g = Graph()\n",
    "g.add_edge(0, 1)\n",
    "g.add_edge(1, 12)\n",
    "g.add_edge(2, 0)\n",
    "g.add_edge(2, 3)\n",
    "g.add_edge(2,1)\n",
    "g.add_edge(3, 4)\n",
    "g.add_edge(4, 7)\n",
    "g.add_edge(4, 12)\n",
    "g.add_edge(7, 8)\n",
    "print(g.get_edges())"
   ]
  },
  {
   "cell_type": "markdown",
   "metadata": {},
   "source": [
    "Zadanie 2"
   ]
  },
  {
   "cell_type": "code",
   "execution_count": 87,
   "metadata": {},
   "outputs": [
    {
     "data": {
      "image/svg+xml": [
       "<?xml version=\"1.0\" encoding=\"UTF-8\" standalone=\"no\"?>\n",
       "<!DOCTYPE svg PUBLIC \"-//W3C//DTD SVG 1.1//EN\"\n",
       " \"http://www.w3.org/Graphics/SVG/1.1/DTD/svg11.dtd\">\n",
       "<!-- Generated by graphviz version 9.0.0 (20230911.1827)\n",
       " -->\n",
       "<!-- Pages: 1 -->\n",
       "<svg width=\"172pt\" height=\"332pt\"\n",
       " viewBox=\"0.00 0.00 172.00 332.00\" xmlns=\"http://www.w3.org/2000/svg\" xmlns:xlink=\"http://www.w3.org/1999/xlink\">\n",
       "<g id=\"graph0\" class=\"graph\" transform=\"scale(1 1) rotate(0) translate(4 328)\">\n",
       "<polygon fill=\"white\" stroke=\"none\" points=\"-4,4 -4,-328 168,-328 168,4 -4,4\"/>\n",
       "<!-- 0 -->\n",
       "<g id=\"node1\" class=\"node\">\n",
       "<title>0</title>\n",
       "<ellipse fill=\"none\" stroke=\"black\" cx=\"27\" cy=\"-234\" rx=\"27\" ry=\"18\"/>\n",
       "<text text-anchor=\"middle\" x=\"27\" y=\"-228.57\" font-family=\"Times New Roman,serif\" font-size=\"14.00\">0</text>\n",
       "</g>\n",
       "<!-- 1 -->\n",
       "<g id=\"node2\" class=\"node\">\n",
       "<title>1</title>\n",
       "<ellipse fill=\"none\" stroke=\"black\" cx=\"65\" cy=\"-162\" rx=\"27\" ry=\"18\"/>\n",
       "<text text-anchor=\"middle\" x=\"65\" y=\"-156.57\" font-family=\"Times New Roman,serif\" font-size=\"14.00\">1</text>\n",
       "</g>\n",
       "<!-- 0&#45;&gt;1 -->\n",
       "<g id=\"edge1\" class=\"edge\">\n",
       "<title>0&#45;&gt;1</title>\n",
       "<path fill=\"none\" stroke=\"black\" d=\"M35.81,-216.76C40.27,-208.55 45.8,-198.37 50.84,-189.09\"/>\n",
       "<polygon fill=\"black\" stroke=\"black\" points=\"53.82,-190.94 55.51,-180.48 47.67,-187.6 53.82,-190.94\"/>\n",
       "</g>\n",
       "<!-- 12 -->\n",
       "<g id=\"node3\" class=\"node\">\n",
       "<title>12</title>\n",
       "<ellipse fill=\"none\" stroke=\"black\" cx=\"65\" cy=\"-90\" rx=\"27\" ry=\"18\"/>\n",
       "<text text-anchor=\"middle\" x=\"65\" y=\"-84.58\" font-family=\"Times New Roman,serif\" font-size=\"14.00\">12</text>\n",
       "</g>\n",
       "<!-- 1&#45;&gt;12 -->\n",
       "<g id=\"edge2\" class=\"edge\">\n",
       "<title>1&#45;&gt;12</title>\n",
       "<path fill=\"none\" stroke=\"black\" d=\"M65,-143.7C65,-136.41 65,-127.73 65,-119.54\"/>\n",
       "<polygon fill=\"black\" stroke=\"black\" points=\"68.5,-119.62 65,-109.62 61.5,-119.62 68.5,-119.62\"/>\n",
       "</g>\n",
       "<!-- 2 -->\n",
       "<g id=\"node4\" class=\"node\">\n",
       "<title>2</title>\n",
       "<ellipse fill=\"none\" stroke=\"black\" cx=\"82\" cy=\"-306\" rx=\"27\" ry=\"18\"/>\n",
       "<text text-anchor=\"middle\" x=\"82\" y=\"-300.57\" font-family=\"Times New Roman,serif\" font-size=\"14.00\">2</text>\n",
       "</g>\n",
       "<!-- 2&#45;&gt;0 -->\n",
       "<g id=\"edge3\" class=\"edge\">\n",
       "<title>2&#45;&gt;0</title>\n",
       "<path fill=\"none\" stroke=\"black\" d=\"M69.79,-289.46C62.89,-280.67 54.09,-269.48 46.27,-259.53\"/>\n",
       "<polygon fill=\"black\" stroke=\"black\" points=\"49.04,-257.38 40.11,-251.68 43.53,-261.71 49.04,-257.38\"/>\n",
       "</g>\n",
       "<!-- 2&#45;&gt;1 -->\n",
       "<g id=\"edge5\" class=\"edge\">\n",
       "<title>2&#45;&gt;1</title>\n",
       "<path fill=\"none\" stroke=\"black\" d=\"M79.92,-287.59C77.05,-263.61 71.84,-220.14 68.4,-191.42\"/>\n",
       "<polygon fill=\"black\" stroke=\"black\" points=\"71.89,-191.13 67.23,-181.61 64.94,-191.96 71.89,-191.13\"/>\n",
       "</g>\n",
       "<!-- 3 -->\n",
       "<g id=\"node5\" class=\"node\">\n",
       "<title>3</title>\n",
       "<ellipse fill=\"none\" stroke=\"black\" cx=\"137\" cy=\"-234\" rx=\"27\" ry=\"18\"/>\n",
       "<text text-anchor=\"middle\" x=\"137\" y=\"-228.57\" font-family=\"Times New Roman,serif\" font-size=\"14.00\">3</text>\n",
       "</g>\n",
       "<!-- 2&#45;&gt;3 -->\n",
       "<g id=\"edge4\" class=\"edge\">\n",
       "<title>2&#45;&gt;3</title>\n",
       "<path fill=\"none\" stroke=\"black\" d=\"M94.21,-289.46C101.11,-280.67 109.91,-269.48 117.73,-259.53\"/>\n",
       "<polygon fill=\"black\" stroke=\"black\" points=\"120.47,-261.71 123.89,-251.68 114.96,-257.38 120.47,-261.71\"/>\n",
       "</g>\n",
       "<!-- 4 -->\n",
       "<g id=\"node6\" class=\"node\">\n",
       "<title>4</title>\n",
       "<ellipse fill=\"none\" stroke=\"black\" cx=\"137\" cy=\"-162\" rx=\"27\" ry=\"18\"/>\n",
       "<text text-anchor=\"middle\" x=\"137\" y=\"-156.57\" font-family=\"Times New Roman,serif\" font-size=\"14.00\">4</text>\n",
       "</g>\n",
       "<!-- 3&#45;&gt;4 -->\n",
       "<g id=\"edge6\" class=\"edge\">\n",
       "<title>3&#45;&gt;4</title>\n",
       "<path fill=\"none\" stroke=\"black\" d=\"M137,-215.7C137,-208.41 137,-199.73 137,-191.54\"/>\n",
       "<polygon fill=\"black\" stroke=\"black\" points=\"140.5,-191.62 137,-181.62 133.5,-191.62 140.5,-191.62\"/>\n",
       "</g>\n",
       "<!-- 4&#45;&gt;12 -->\n",
       "<g id=\"edge8\" class=\"edge\">\n",
       "<title>4&#45;&gt;12</title>\n",
       "<path fill=\"none\" stroke=\"black\" d=\"M122.08,-146.5C112.23,-136.92 99.14,-124.19 87.97,-113.34\"/>\n",
       "<polygon fill=\"black\" stroke=\"black\" points=\"90.59,-111 80.98,-106.54 85.71,-116.02 90.59,-111\"/>\n",
       "</g>\n",
       "<!-- 7 -->\n",
       "<g id=\"node7\" class=\"node\">\n",
       "<title>7</title>\n",
       "<ellipse fill=\"none\" stroke=\"black\" cx=\"137\" cy=\"-90\" rx=\"27\" ry=\"18\"/>\n",
       "<text text-anchor=\"middle\" x=\"137\" y=\"-84.58\" font-family=\"Times New Roman,serif\" font-size=\"14.00\">7</text>\n",
       "</g>\n",
       "<!-- 4&#45;&gt;7 -->\n",
       "<g id=\"edge7\" class=\"edge\">\n",
       "<title>4&#45;&gt;7</title>\n",
       "<path fill=\"none\" stroke=\"black\" d=\"M137,-143.7C137,-136.41 137,-127.73 137,-119.54\"/>\n",
       "<polygon fill=\"black\" stroke=\"black\" points=\"140.5,-119.62 137,-109.62 133.5,-119.62 140.5,-119.62\"/>\n",
       "</g>\n",
       "<!-- 8 -->\n",
       "<g id=\"node8\" class=\"node\">\n",
       "<title>8</title>\n",
       "<ellipse fill=\"none\" stroke=\"black\" cx=\"137\" cy=\"-18\" rx=\"27\" ry=\"18\"/>\n",
       "<text text-anchor=\"middle\" x=\"137\" y=\"-12.57\" font-family=\"Times New Roman,serif\" font-size=\"14.00\">8</text>\n",
       "</g>\n",
       "<!-- 7&#45;&gt;8 -->\n",
       "<g id=\"edge9\" class=\"edge\">\n",
       "<title>7&#45;&gt;8</title>\n",
       "<path fill=\"none\" stroke=\"black\" d=\"M137,-71.7C137,-64.41 137,-55.73 137,-47.54\"/>\n",
       "<polygon fill=\"black\" stroke=\"black\" points=\"140.5,-47.62 137,-37.62 133.5,-47.62 140.5,-47.62\"/>\n",
       "</g>\n",
       "</g>\n",
       "</svg>\n"
      ],
      "text/plain": [
       "<graphviz.graphs.Digraph at 0x13a9e0be460>"
      ]
     },
     "execution_count": 87,
     "metadata": {},
     "output_type": "execute_result"
    }
   ],
   "source": [
    "g.visualize()"
   ]
  },
  {
   "cell_type": "markdown",
   "metadata": {},
   "source": [
    "Zadanie 3"
   ]
  },
  {
   "cell_type": "code",
   "execution_count": 89,
   "metadata": {},
   "outputs": [
    {
     "data": {
      "text/plain": [
       "[2, 0, 3, 1, 4, 12, 7, 8]"
      ]
     },
     "execution_count": 89,
     "metadata": {},
     "output_type": "execute_result"
    }
   ],
   "source": [
    "g.bfs(2)[0]"
   ]
  },
  {
   "cell_type": "code",
   "execution_count": 90,
   "metadata": {},
   "outputs": [
    {
     "data": {
      "text/plain": [
       "[2, 0, 1, 12, 3, 4, 7, 8]"
      ]
     },
     "execution_count": 90,
     "metadata": {},
     "output_type": "execute_result"
    }
   ],
   "source": [
    "g.dfs(2)"
   ]
  },
  {
   "cell_type": "markdown",
   "metadata": {},
   "source": [
    "Zadanie 4"
   ]
  },
  {
   "cell_type": "code",
   "execution_count": 91,
   "metadata": {},
   "outputs": [
    {
     "data": {
      "text/plain": [
       "[2, 3, 4, 7, 8, 0, 1, 12]"
      ]
     },
     "execution_count": 91,
     "metadata": {},
     "output_type": "execute_result"
    }
   ],
   "source": [
    "g.topological_sort()"
   ]
  },
  {
   "cell_type": "markdown",
   "metadata": {},
   "source": [
    "Zadanie 5"
   ]
  },
  {
   "cell_type": "code",
   "execution_count": 92,
   "metadata": {},
   "outputs": [
    {
     "name": "stdout",
     "output_type": "stream",
     "text": [
      "Shortest distance from 2 to 2 is 0. Path: 2\n",
      "Shortest distance from 2 to 0 is 1. Path: 2 -> 0\n",
      "Shortest distance from 2 to 3 is 1. Path: 2 -> 3\n",
      "Shortest distance from 2 to 1 is 1. Path: 2 -> 1\n",
      "Shortest distance from 2 to 4 is 2. Path: 2 -> 3 -> 4\n",
      "Shortest distance from 2 to 12 is 2. Path: 2 -> 1 -> 12\n",
      "Shortest distance from 2 to 7 is 3. Path: 2 -> 3 -> 4 -> 7\n",
      "Shortest distance from 2 to 8 is 4. Path: 2 -> 3 -> 4 -> 7 -> 8\n"
     ]
    }
   ],
   "source": [
    "g.shortest_paths(2)"
   ]
  }
 ],
 "metadata": {
  "kernelspec": {
   "display_name": "Python 3",
   "language": "python",
   "name": "python3"
  },
  "language_info": {
   "codemirror_mode": {
    "name": "ipython",
    "version": 3
   },
   "file_extension": ".py",
   "mimetype": "text/x-python",
   "name": "python",
   "nbconvert_exporter": "python",
   "pygments_lexer": "ipython3",
   "version": "3.8.0"
  }
 },
 "nbformat": 4,
 "nbformat_minor": 2
}
