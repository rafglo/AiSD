{
 "cells": [
  {
   "cell_type": "markdown",
   "metadata": {},
   "source": [
    "# **Lista 5** \n",
    "### Rafał Głodek\n",
    "***"
   ]
  },
  {
   "cell_type": "markdown",
   "metadata": {},
   "source": [
    "Zadanie 1"
   ]
  },
  {
   "cell_type": "code",
   "execution_count": 2,
   "metadata": {},
   "outputs": [],
   "source": [
    "import graphviz, sys"
   ]
  },
  {
   "cell_type": "code",
   "execution_count": 3,
   "metadata": {},
   "outputs": [],
   "source": [
    "class Vertex():\n",
    "    def __init__(self, key):\n",
    "        self.id = key\n",
    "        self.neighbors = {}\n",
    "\n",
    "    def add_neighbor(self, value, weight):\n",
    "        self.neighbors[value] = weight\n",
    "    \n",
    "    def __str__(self):\n",
    "        return \"Node: \" + str(self.id) + \" Neighbors: \" + str([i.id for i in self.neigbors])\n",
    "\n",
    "    def get_neighbors(self):\n",
    "        return [i.id for i in self.neighbors]\n",
    "    \n",
    "    def get_id(self):\n",
    "        return self.id\n",
    "    \n",
    "    def get_weight(self, neighbor):\n",
    "        return self.neighbors[neighbor]\n",
    "\n",
    "    def set_distance(self, d):\n",
    "        self.dist = d\n",
    "    \n",
    "    def get_distance(self):\n",
    "        return self.dist\n",
    "    \n",
    "    def set_pred(self,p):\n",
    "        self.pred = p\n",
    "\n",
    "    def get_pred(self):\n",
    "        return self.pred"
   ]
  },
  {
   "cell_type": "code",
   "execution_count": 4,
   "metadata": {},
   "outputs": [],
   "source": [
    "from collections import deque"
   ]
  },
  {
   "cell_type": "code",
   "execution_count": 5,
   "metadata": {},
   "outputs": [],
   "source": [
    "class Graph(Vertex):\n",
    "    def __init__(self):\n",
    "        self.vertices = {}\n",
    "        self.size = 0\n",
    "\n",
    "    def add_vertex(self, vert_key):\n",
    "        vertex = Vertex(vert_key)\n",
    "        self.vertices[vert_key] = vertex\n",
    "        self.size += 1\n",
    "        return vertex\n",
    "    \n",
    "    def __contains__(self, vert_key):\n",
    "        return vert_key in self.vertices\n",
    "    \n",
    "    def vertex(self, vert_key):\n",
    "        if vert_key in self.vertices:\n",
    "            return self.vertices[vert_key]\n",
    "        else:\n",
    "            return None\n",
    "        \n",
    "    def get_neighbors(self, vert_key):\n",
    "        if vert_key in self.vertices:\n",
    "            return self.vertices[vert_key].get_neighbors()\n",
    "        else:\n",
    "            return None\n",
    "\n",
    "    def get_vertices(self):\n",
    "        return [x for x in self.vertices]\n",
    "    \n",
    "    def add_edge(self, from_key, to_key, weight=0):\n",
    "        if from_key not in self.vertices:\n",
    "            self.add_vertex(from_key)\n",
    "        if to_key not in self.vertices:\n",
    "            self.add_vertex(to_key)\n",
    "        self.vertices[from_key].add_neighbor(self.vertices[to_key], weight)\n",
    "    \n",
    "    def get_edges(self):\n",
    "        edges = []\n",
    "        for vert in self.vertices:\n",
    "            neighbors = self.vertices[vert].get_neighbors()\n",
    "            if not neighbors is None:\n",
    "                for n in neighbors:\n",
    "                    edges.append([str(vert), str(n)])\n",
    "        return edges\n",
    "    \n",
    "    def visualize(self):\n",
    "        dot = graphviz.Digraph()\n",
    "        for vert in self.vertices:\n",
    "            dot.node(str(vert), str(vert))\n",
    "        for edge in self.get_edges():\n",
    "            dot.edge(str(edge[0]), str(edge[1]))\n",
    "        return dot\n",
    "        \n",
    "    def bfs(self, start):\n",
    "        visited = [start]\n",
    "        self.vertices[start].set_distance(0)\n",
    "        self.vertices[start].set_pred(None)\n",
    "        q = []\n",
    "        q.append(start)\n",
    "        while len(q):\n",
    "            vert = q.pop(0)\n",
    "            neighbors = self.vertices[vert].get_neighbors()\n",
    "            for neighbor in neighbors:\n",
    "                if not neighbor in visited:\n",
    "                    q.append(neighbor)\n",
    "                    visited.append(neighbor)\n",
    "                    self.vertices[neighbor].set_distance(self.vertices[vert].get_distance() + 1)\n",
    "                    self.vertices[neighbor].set_pred(vert)\n",
    "\n",
    "        dists = []\n",
    "        preds = []\n",
    "        for vert in visited:\n",
    "            preds1 = [vert]\n",
    "            dists.append(self.vertices[vert].get_distance())\n",
    "            pred = self.vertices[vert].get_pred()\n",
    "            while pred != None:\n",
    "                preds1.append(pred)\n",
    "                pred = self.vertices[pred].get_pred()\n",
    "            preds.append(preds1[::-1])\n",
    "\n",
    "        return visited, dists, preds\n",
    "\n",
    "    def dfs(self, start, visited = []):\n",
    "        if not start in visited:\n",
    "            visited.append(start)\n",
    "        neighbors = self.vertices[start].get_neighbors()\n",
    "        for neighbor in neighbors:\n",
    "            if not neighbor in visited:\n",
    "                self.dfs(neighbor, visited)\n",
    "        return visited\n",
    "\n",
    "    def dfs_topological_sort(self, start, stack, visited = []):\n",
    "        if not start in visited:\n",
    "            visited.append(start)\n",
    "        neighbors = self.vertices[start].get_neighbors()\n",
    "        for neighbor in neighbors:\n",
    "            if not neighbor in visited:\n",
    "                self.dfs_topological_sort(neighbor, stack, visited)\n",
    "        stack.append(start)\n",
    "\n",
    "    def topological_sort(self):\n",
    "        visited = []\n",
    "        stack = []\n",
    "\n",
    "        for vert in self.get_vertices():\n",
    "            if not vert in visited:\n",
    "                self.dfs_topological_sort(vert, stack, visited)\n",
    "        \n",
    "        return stack[::-1]\n",
    "    \n",
    "    def shortest_paths(self, vert):\n",
    "        verts, dists, paths = self.bfs(vert)\n",
    "        for i in range(len(verts)):\n",
    "            path = \"\"\n",
    "            for j in range(len(paths[i])):\n",
    "                if j != len(paths[i]) - 1:\n",
    "                    path += str(paths[i][j]) + \" -> \"\n",
    "                else:\n",
    "                    path += str(paths[i][j])\n",
    "            print(\"Shortest distance from \" + str(vert) + \" to \" + str(verts[i]) + \" is \" + str(dists[i]) + \". Path: \" + path)\n",
    "        "
   ]
  },
  {
   "cell_type": "code",
   "execution_count": 86,
   "metadata": {},
   "outputs": [
    {
     "name": "stdout",
     "output_type": "stream",
     "text": [
      "[['0', '1'], ['1', '12'], ['2', '0'], ['2', '3'], ['2', '1'], ['3', '4'], ['4', '7'], ['4', '12'], ['7', '8']]\n"
     ]
    }
   ],
   "source": [
    "g = Graph()\n",
    "g.add_edge(0, 1)\n",
    "g.add_edge(1, 12)\n",
    "g.add_edge(2, 0)\n",
    "g.add_edge(2, 3)\n",
    "g.add_edge(2,1)\n",
    "g.add_edge(3, 4)\n",
    "g.add_edge(4, 7)\n",
    "g.add_edge(4, 12)\n",
    "g.add_edge(7, 8)\n",
    "print(g.get_edges())"
   ]
  },
  {
   "cell_type": "markdown",
   "metadata": {},
   "source": [
    "Zadanie 2"
   ]
  },
  {
   "cell_type": "code",
   "execution_count": 87,
   "metadata": {},
   "outputs": [
    {
     "data": {
      "image/svg+xml": [
       "<?xml version=\"1.0\" encoding=\"UTF-8\" standalone=\"no\"?>\n",
       "<!DOCTYPE svg PUBLIC \"-//W3C//DTD SVG 1.1//EN\"\n",
       " \"http://www.w3.org/Graphics/SVG/1.1/DTD/svg11.dtd\">\n",
       "<!-- Generated by graphviz version 9.0.0 (20230911.1827)\n",
       " -->\n",
       "<!-- Pages: 1 -->\n",
       "<svg width=\"172pt\" height=\"332pt\"\n",
       " viewBox=\"0.00 0.00 172.00 332.00\" xmlns=\"http://www.w3.org/2000/svg\" xmlns:xlink=\"http://www.w3.org/1999/xlink\">\n",
       "<g id=\"graph0\" class=\"graph\" transform=\"scale(1 1) rotate(0) translate(4 328)\">\n",
       "<polygon fill=\"white\" stroke=\"none\" points=\"-4,4 -4,-328 168,-328 168,4 -4,4\"/>\n",
       "<!-- 0 -->\n",
       "<g id=\"node1\" class=\"node\">\n",
       "<title>0</title>\n",
       "<ellipse fill=\"none\" stroke=\"black\" cx=\"27\" cy=\"-234\" rx=\"27\" ry=\"18\"/>\n",
       "<text text-anchor=\"middle\" x=\"27\" y=\"-228.57\" font-family=\"Times New Roman,serif\" font-size=\"14.00\">0</text>\n",
       "</g>\n",
       "<!-- 1 -->\n",
       "<g id=\"node2\" class=\"node\">\n",
       "<title>1</title>\n",
       "<ellipse fill=\"none\" stroke=\"black\" cx=\"65\" cy=\"-162\" rx=\"27\" ry=\"18\"/>\n",
       "<text text-anchor=\"middle\" x=\"65\" y=\"-156.57\" font-family=\"Times New Roman,serif\" font-size=\"14.00\">1</text>\n",
       "</g>\n",
       "<!-- 0&#45;&gt;1 -->\n",
       "<g id=\"edge1\" class=\"edge\">\n",
       "<title>0&#45;&gt;1</title>\n",
       "<path fill=\"none\" stroke=\"black\" d=\"M35.81,-216.76C40.27,-208.55 45.8,-198.37 50.84,-189.09\"/>\n",
       "<polygon fill=\"black\" stroke=\"black\" points=\"53.82,-190.94 55.51,-180.48 47.67,-187.6 53.82,-190.94\"/>\n",
       "</g>\n",
       "<!-- 12 -->\n",
       "<g id=\"node3\" class=\"node\">\n",
       "<title>12</title>\n",
       "<ellipse fill=\"none\" stroke=\"black\" cx=\"65\" cy=\"-90\" rx=\"27\" ry=\"18\"/>\n",
       "<text text-anchor=\"middle\" x=\"65\" y=\"-84.58\" font-family=\"Times New Roman,serif\" font-size=\"14.00\">12</text>\n",
       "</g>\n",
       "<!-- 1&#45;&gt;12 -->\n",
       "<g id=\"edge2\" class=\"edge\">\n",
       "<title>1&#45;&gt;12</title>\n",
       "<path fill=\"none\" stroke=\"black\" d=\"M65,-143.7C65,-136.41 65,-127.73 65,-119.54\"/>\n",
       "<polygon fill=\"black\" stroke=\"black\" points=\"68.5,-119.62 65,-109.62 61.5,-119.62 68.5,-119.62\"/>\n",
       "</g>\n",
       "<!-- 2 -->\n",
       "<g id=\"node4\" class=\"node\">\n",
       "<title>2</title>\n",
       "<ellipse fill=\"none\" stroke=\"black\" cx=\"82\" cy=\"-306\" rx=\"27\" ry=\"18\"/>\n",
       "<text text-anchor=\"middle\" x=\"82\" y=\"-300.57\" font-family=\"Times New Roman,serif\" font-size=\"14.00\">2</text>\n",
       "</g>\n",
       "<!-- 2&#45;&gt;0 -->\n",
       "<g id=\"edge3\" class=\"edge\">\n",
       "<title>2&#45;&gt;0</title>\n",
       "<path fill=\"none\" stroke=\"black\" d=\"M69.79,-289.46C62.89,-280.67 54.09,-269.48 46.27,-259.53\"/>\n",
       "<polygon fill=\"black\" stroke=\"black\" points=\"49.04,-257.38 40.11,-251.68 43.53,-261.71 49.04,-257.38\"/>\n",
       "</g>\n",
       "<!-- 2&#45;&gt;1 -->\n",
       "<g id=\"edge5\" class=\"edge\">\n",
       "<title>2&#45;&gt;1</title>\n",
       "<path fill=\"none\" stroke=\"black\" d=\"M79.92,-287.59C77.05,-263.61 71.84,-220.14 68.4,-191.42\"/>\n",
       "<polygon fill=\"black\" stroke=\"black\" points=\"71.89,-191.13 67.23,-181.61 64.94,-191.96 71.89,-191.13\"/>\n",
       "</g>\n",
       "<!-- 3 -->\n",
       "<g id=\"node5\" class=\"node\">\n",
       "<title>3</title>\n",
       "<ellipse fill=\"none\" stroke=\"black\" cx=\"137\" cy=\"-234\" rx=\"27\" ry=\"18\"/>\n",
       "<text text-anchor=\"middle\" x=\"137\" y=\"-228.57\" font-family=\"Times New Roman,serif\" font-size=\"14.00\">3</text>\n",
       "</g>\n",
       "<!-- 2&#45;&gt;3 -->\n",
       "<g id=\"edge4\" class=\"edge\">\n",
       "<title>2&#45;&gt;3</title>\n",
       "<path fill=\"none\" stroke=\"black\" d=\"M94.21,-289.46C101.11,-280.67 109.91,-269.48 117.73,-259.53\"/>\n",
       "<polygon fill=\"black\" stroke=\"black\" points=\"120.47,-261.71 123.89,-251.68 114.96,-257.38 120.47,-261.71\"/>\n",
       "</g>\n",
       "<!-- 4 -->\n",
       "<g id=\"node6\" class=\"node\">\n",
       "<title>4</title>\n",
       "<ellipse fill=\"none\" stroke=\"black\" cx=\"137\" cy=\"-162\" rx=\"27\" ry=\"18\"/>\n",
       "<text text-anchor=\"middle\" x=\"137\" y=\"-156.57\" font-family=\"Times New Roman,serif\" font-size=\"14.00\">4</text>\n",
       "</g>\n",
       "<!-- 3&#45;&gt;4 -->\n",
       "<g id=\"edge6\" class=\"edge\">\n",
       "<title>3&#45;&gt;4</title>\n",
       "<path fill=\"none\" stroke=\"black\" d=\"M137,-215.7C137,-208.41 137,-199.73 137,-191.54\"/>\n",
       "<polygon fill=\"black\" stroke=\"black\" points=\"140.5,-191.62 137,-181.62 133.5,-191.62 140.5,-191.62\"/>\n",
       "</g>\n",
       "<!-- 4&#45;&gt;12 -->\n",
       "<g id=\"edge8\" class=\"edge\">\n",
       "<title>4&#45;&gt;12</title>\n",
       "<path fill=\"none\" stroke=\"black\" d=\"M122.08,-146.5C112.23,-136.92 99.14,-124.19 87.97,-113.34\"/>\n",
       "<polygon fill=\"black\" stroke=\"black\" points=\"90.59,-111 80.98,-106.54 85.71,-116.02 90.59,-111\"/>\n",
       "</g>\n",
       "<!-- 7 -->\n",
       "<g id=\"node7\" class=\"node\">\n",
       "<title>7</title>\n",
       "<ellipse fill=\"none\" stroke=\"black\" cx=\"137\" cy=\"-90\" rx=\"27\" ry=\"18\"/>\n",
       "<text text-anchor=\"middle\" x=\"137\" y=\"-84.58\" font-family=\"Times New Roman,serif\" font-size=\"14.00\">7</text>\n",
       "</g>\n",
       "<!-- 4&#45;&gt;7 -->\n",
       "<g id=\"edge7\" class=\"edge\">\n",
       "<title>4&#45;&gt;7</title>\n",
       "<path fill=\"none\" stroke=\"black\" d=\"M137,-143.7C137,-136.41 137,-127.73 137,-119.54\"/>\n",
       "<polygon fill=\"black\" stroke=\"black\" points=\"140.5,-119.62 137,-109.62 133.5,-119.62 140.5,-119.62\"/>\n",
       "</g>\n",
       "<!-- 8 -->\n",
       "<g id=\"node8\" class=\"node\">\n",
       "<title>8</title>\n",
       "<ellipse fill=\"none\" stroke=\"black\" cx=\"137\" cy=\"-18\" rx=\"27\" ry=\"18\"/>\n",
       "<text text-anchor=\"middle\" x=\"137\" y=\"-12.57\" font-family=\"Times New Roman,serif\" font-size=\"14.00\">8</text>\n",
       "</g>\n",
       "<!-- 7&#45;&gt;8 -->\n",
       "<g id=\"edge9\" class=\"edge\">\n",
       "<title>7&#45;&gt;8</title>\n",
       "<path fill=\"none\" stroke=\"black\" d=\"M137,-71.7C137,-64.41 137,-55.73 137,-47.54\"/>\n",
       "<polygon fill=\"black\" stroke=\"black\" points=\"140.5,-47.62 137,-37.62 133.5,-47.62 140.5,-47.62\"/>\n",
       "</g>\n",
       "</g>\n",
       "</svg>\n"
      ],
      "text/plain": [
       "<graphviz.graphs.Digraph at 0x13a9e0be460>"
      ]
     },
     "execution_count": 87,
     "metadata": {},
     "output_type": "execute_result"
    }
   ],
   "source": [
    "g.visualize()"
   ]
  },
  {
   "cell_type": "markdown",
   "metadata": {},
   "source": [
    "Zadanie 3"
   ]
  },
  {
   "cell_type": "code",
   "execution_count": 89,
   "metadata": {},
   "outputs": [
    {
     "data": {
      "text/plain": [
       "[2, 0, 3, 1, 4, 12, 7, 8]"
      ]
     },
     "execution_count": 89,
     "metadata": {},
     "output_type": "execute_result"
    }
   ],
   "source": [
    "g.bfs(2)[0]"
   ]
  },
  {
   "cell_type": "code",
   "execution_count": 90,
   "metadata": {},
   "outputs": [
    {
     "data": {
      "text/plain": [
       "[2, 0, 1, 12, 3, 4, 7, 8]"
      ]
     },
     "execution_count": 90,
     "metadata": {},
     "output_type": "execute_result"
    }
   ],
   "source": [
    "g.dfs(2)"
   ]
  },
  {
   "cell_type": "markdown",
   "metadata": {},
   "source": [
    "Zadanie 4"
   ]
  },
  {
   "cell_type": "code",
   "execution_count": 91,
   "metadata": {},
   "outputs": [
    {
     "data": {
      "text/plain": [
       "[2, 3, 4, 7, 8, 0, 1, 12]"
      ]
     },
     "execution_count": 91,
     "metadata": {},
     "output_type": "execute_result"
    }
   ],
   "source": [
    "g.topological_sort()"
   ]
  },
  {
   "cell_type": "markdown",
   "metadata": {},
   "source": [
    "Zadanie 5"
   ]
  },
  {
   "cell_type": "code",
   "execution_count": 92,
   "metadata": {},
   "outputs": [
    {
     "name": "stdout",
     "output_type": "stream",
     "text": [
      "Shortest distance from 2 to 2 is 0. Path: 2\n",
      "Shortest distance from 2 to 0 is 1. Path: 2 -> 0\n",
      "Shortest distance from 2 to 3 is 1. Path: 2 -> 3\n",
      "Shortest distance from 2 to 1 is 1. Path: 2 -> 1\n",
      "Shortest distance from 2 to 4 is 2. Path: 2 -> 3 -> 4\n",
      "Shortest distance from 2 to 12 is 2. Path: 2 -> 1 -> 12\n",
      "Shortest distance from 2 to 7 is 3. Path: 2 -> 3 -> 4 -> 7\n",
      "Shortest distance from 2 to 8 is 4. Path: 2 -> 3 -> 4 -> 7 -> 8\n"
     ]
    }
   ],
   "source": [
    "g.shortest_paths(2)"
   ]
  },
  {
   "cell_type": "markdown",
   "metadata": {},
   "source": [
    "Zadanie 6"
   ]
  },
  {
   "cell_type": "code",
   "execution_count": 53,
   "metadata": {},
   "outputs": [
    {
     "data": {
      "text/plain": [
       "<__main__.Vertex at 0x1e457ec1eb0>"
      ]
     },
     "execution_count": 53,
     "metadata": {},
     "output_type": "execute_result"
    }
   ],
   "source": [
    "G = Graph()\n",
    "G.add_vertex((3,3,1))"
   ]
  },
  {
   "cell_type": "code",
   "execution_count": 36,
   "metadata": {},
   "outputs": [],
   "source": [
    "def boat_ok(a):\n",
    "    boat = a[2]\n",
    "    if boat in [1,0]:\n",
    "        return True\n",
    "    else:\n",
    "        return False"
   ]
  },
  {
   "cell_type": "code",
   "execution_count": 37,
   "metadata": {},
   "outputs": [],
   "source": [
    "def missionaries_ok(a):\n",
    "    mis = a[0]\n",
    "    can = a[1]\n",
    "    if mis in [0,1,2,3] and can in [0,1,2,3]:\n",
    "        if (mis, can) in [(3,3), (2,2), (3,0), (0,3), (3,1), (1,1), (0,0), (3,2), (0,2), (0,1)]:\n",
    "            return True\n",
    "        else:\n",
    "            return False\n",
    "    else:\n",
    "        return False"
   ]
  },
  {
   "cell_type": "code",
   "execution_count": 38,
   "metadata": {},
   "outputs": [],
   "source": [
    "positions = [(1,0,1), (2,0,1), (0,1,1), (0,2,1), (1,1,1)]"
   ]
  },
  {
   "cell_type": "code",
   "execution_count": 54,
   "metadata": {},
   "outputs": [],
   "source": [
    "run = True\n",
    "\n",
    "while run:\n",
    "    routes = G.bfs((3,3,1))[0]\n",
    "    for route in routes:\n",
    "        if len(G.get_neighbors(route)) == 0:\n",
    "            for pos in positions:\n",
    "                if route[2] == 0:\n",
    "                    b = (route[0]+pos[0], route[1]+pos[1], route[2]+pos[2])\n",
    "                    if boat_ok(b) and missionaries_ok(b):\n",
    "\n",
    "                            if b == (0,0,0):\n",
    "                                run = False\n",
    "                            G.add_edge(route, b)\n",
    "                            \n",
    "                if route[2] == 1:\n",
    "                    a = (route[0]-pos[0], route[1]-pos[1], route[2]-pos[2])\n",
    "                    if boat_ok(a) and missionaries_ok(a):\n",
    "\n",
    "                            if a == (0,0,0):\n",
    "                                run = False\n",
    "                            G.add_edge(route, a)\n",
    "                            \n",
    "                    \n",
    "\n"
   ]
  },
  {
   "cell_type": "code",
   "execution_count": 55,
   "metadata": {},
   "outputs": [
    {
     "data": {
      "image/svg+xml": [
       "<?xml version=\"1.0\" encoding=\"UTF-8\" standalone=\"no\"?>\n",
       "<!DOCTYPE svg PUBLIC \"-//W3C//DTD SVG 1.1//EN\"\n",
       " \"http://www.w3.org/Graphics/SVG/1.1/DTD/svg11.dtd\">\n",
       "<!-- Generated by graphviz version 9.0.0 (20230911.1827)\n",
       " -->\n",
       "<!-- Pages: 1 -->\n",
       "<svg width=\"263pt\" height=\"836pt\"\n",
       " viewBox=\"0.00 0.00 263.17 836.00\" xmlns=\"http://www.w3.org/2000/svg\" xmlns:xlink=\"http://www.w3.org/1999/xlink\">\n",
       "<g id=\"graph0\" class=\"graph\" transform=\"scale(1 1) rotate(0) translate(4 832)\">\n",
       "<polygon fill=\"white\" stroke=\"none\" points=\"-4,4 -4,-832 259.17,-832 259.17,4 -4,4\"/>\n",
       "<!-- (3, 3, 1) -->\n",
       "<g id=\"node1\" class=\"node\">\n",
       "<title>(3, 3, 1)</title>\n",
       "<ellipse fill=\"none\" stroke=\"black\" cx=\"138.09\" cy=\"-810\" rx=\"40.09\" ry=\"18\"/>\n",
       "<text text-anchor=\"middle\" x=\"138.09\" y=\"-804.58\" font-family=\"Times New Roman,serif\" font-size=\"14.00\">(3, 3, 1)</text>\n",
       "</g>\n",
       "<!-- (3, 2, 0) -->\n",
       "<g id=\"node2\" class=\"node\">\n",
       "<title>(3, 2, 0)</title>\n",
       "<ellipse fill=\"none\" stroke=\"black\" cx=\"40.09\" cy=\"-738\" rx=\"40.09\" ry=\"18\"/>\n",
       "<text text-anchor=\"middle\" x=\"40.09\" y=\"-732.58\" font-family=\"Times New Roman,serif\" font-size=\"14.00\">(3, 2, 0)</text>\n",
       "</g>\n",
       "<!-- (3, 3, 1)&#45;&gt;(3, 2, 0) -->\n",
       "<g id=\"edge1\" class=\"edge\">\n",
       "<title>(3, 3, 1)&#45;&gt;(3, 2, 0)</title>\n",
       "<path fill=\"none\" stroke=\"black\" d=\"M113.48,-795.34C98.83,-785.81 80.41,-772.86 65.62,-761.79\"/>\n",
       "<polygon fill=\"black\" stroke=\"black\" points=\"67.77,-759.03 57.7,-755.75 63.53,-764.6 67.77,-759.03\"/>\n",
       "</g>\n",
       "<!-- (3, 1, 0) -->\n",
       "<g id=\"node3\" class=\"node\">\n",
       "<title>(3, 1, 0)</title>\n",
       "<ellipse fill=\"none\" stroke=\"black\" cx=\"138.09\" cy=\"-738\" rx=\"40.09\" ry=\"18\"/>\n",
       "<text text-anchor=\"middle\" x=\"138.09\" y=\"-732.58\" font-family=\"Times New Roman,serif\" font-size=\"14.00\">(3, 1, 0)</text>\n",
       "</g>\n",
       "<!-- (3, 3, 1)&#45;&gt;(3, 1, 0) -->\n",
       "<g id=\"edge2\" class=\"edge\">\n",
       "<title>(3, 3, 1)&#45;&gt;(3, 1, 0)</title>\n",
       "<path fill=\"none\" stroke=\"black\" d=\"M132.21,-792.05C131.43,-784.68 131.17,-775.84 131.44,-767.51\"/>\n",
       "<polygon fill=\"black\" stroke=\"black\" points=\"134.92,-767.99 132.07,-757.79 127.93,-767.54 134.92,-767.99\"/>\n",
       "</g>\n",
       "<!-- (2, 2, 0) -->\n",
       "<g id=\"node4\" class=\"node\">\n",
       "<title>(2, 2, 0)</title>\n",
       "<ellipse fill=\"none\" stroke=\"black\" cx=\"215.09\" cy=\"-594\" rx=\"40.09\" ry=\"18\"/>\n",
       "<text text-anchor=\"middle\" x=\"215.09\" y=\"-588.58\" font-family=\"Times New Roman,serif\" font-size=\"14.00\">(2, 2, 0)</text>\n",
       "</g>\n",
       "<!-- (3, 3, 1)&#45;&gt;(2, 2, 0) -->\n",
       "<g id=\"edge3\" class=\"edge\">\n",
       "<title>(3, 3, 1)&#45;&gt;(2, 2, 0)</title>\n",
       "<path fill=\"none\" stroke=\"black\" d=\"M150.26,-792.37C159.49,-782.8 171.2,-769.93 178.09,-756 199.36,-712.96 204.75,-656.48 208.55,-623.12\"/>\n",
       "<polygon fill=\"black\" stroke=\"black\" points=\"211.99,-623.8 209.72,-613.45 205.04,-622.96 211.99,-623.8\"/>\n",
       "</g>\n",
       "<!-- (3, 2, 0)&#45;&gt;(3, 3, 1) -->\n",
       "<g id=\"edge4\" class=\"edge\">\n",
       "<title>(3, 2, 0)&#45;&gt;(3, 3, 1)</title>\n",
       "<path fill=\"none\" stroke=\"black\" d=\"M64.39,-752.47C79.19,-762.08 97.91,-775.24 112.86,-786.44\"/>\n",
       "<polygon fill=\"black\" stroke=\"black\" points=\"110.33,-788.92 120.41,-792.2 114.58,-783.35 110.33,-788.92\"/>\n",
       "</g>\n",
       "<!-- (3, 1, 0)&#45;&gt;(3, 3, 1) -->\n",
       "<g id=\"edge6\" class=\"edge\">\n",
       "<title>(3, 1, 0)&#45;&gt;(3, 3, 1)</title>\n",
       "<path fill=\"none\" stroke=\"black\" d=\"M144,-756.28C144.76,-763.6 145,-772.34 144.73,-780.57\"/>\n",
       "<polygon fill=\"black\" stroke=\"black\" points=\"141.24,-780.33 144.06,-790.54 148.22,-780.8 141.24,-780.33\"/>\n",
       "</g>\n",
       "<!-- (3, 2, 1) -->\n",
       "<g id=\"node5\" class=\"node\">\n",
       "<title>(3, 2, 1)</title>\n",
       "<ellipse fill=\"none\" stroke=\"black\" cx=\"138.09\" cy=\"-666\" rx=\"40.09\" ry=\"18\"/>\n",
       "<text text-anchor=\"middle\" x=\"138.09\" y=\"-660.58\" font-family=\"Times New Roman,serif\" font-size=\"14.00\">(3, 2, 1)</text>\n",
       "</g>\n",
       "<!-- (3, 1, 0)&#45;&gt;(3, 2, 1) -->\n",
       "<g id=\"edge5\" class=\"edge\">\n",
       "<title>(3, 1, 0)&#45;&gt;(3, 2, 1)</title>\n",
       "<path fill=\"none\" stroke=\"black\" d=\"M132.21,-720.05C131.43,-712.68 131.17,-703.84 131.44,-695.51\"/>\n",
       "<polygon fill=\"black\" stroke=\"black\" points=\"134.92,-695.99 132.07,-685.79 127.93,-695.54 134.92,-695.99\"/>\n",
       "</g>\n",
       "<!-- (2, 2, 0)&#45;&gt;(3, 3, 1) -->\n",
       "<g id=\"edge8\" class=\"edge\">\n",
       "<title>(2, 2, 0)&#45;&gt;(3, 3, 1)</title>\n",
       "<path fill=\"none\" stroke=\"black\" d=\"M220.55,-611.95C223.83,-642.4 219.98,-707.68 196.09,-756 190.16,-767.99 180.66,-779.19 170.94,-788.19\"/>\n",
       "<polygon fill=\"black\" stroke=\"black\" points=\"168.89,-785.33 163.57,-794.49 173.45,-790.64 168.89,-785.33\"/>\n",
       "</g>\n",
       "<!-- (2, 2, 0)&#45;&gt;(3, 2, 1) -->\n",
       "<g id=\"edge7\" class=\"edge\">\n",
       "<title>(2, 2, 0)&#45;&gt;(3, 2, 1)</title>\n",
       "<path fill=\"none\" stroke=\"black\" d=\"M202.82,-611.45C193.39,-620.98 180.22,-633.09 168.15,-643.38\"/>\n",
       "<polygon fill=\"black\" stroke=\"black\" points=\"166.23,-640.43 160.8,-649.53 170.72,-645.81 166.23,-640.43\"/>\n",
       "</g>\n",
       "<!-- (3, 2, 1)&#45;&gt;(3, 1, 0) -->\n",
       "<g id=\"edge10\" class=\"edge\">\n",
       "<title>(3, 2, 1)&#45;&gt;(3, 1, 0)</title>\n",
       "<path fill=\"none\" stroke=\"black\" d=\"M144,-684.28C144.76,-691.6 145,-700.34 144.73,-708.57\"/>\n",
       "<polygon fill=\"black\" stroke=\"black\" points=\"141.24,-708.33 144.06,-718.54 148.22,-708.8 141.24,-708.33\"/>\n",
       "</g>\n",
       "<!-- (3, 2, 1)&#45;&gt;(2, 2, 0) -->\n",
       "<g id=\"edge9\" class=\"edge\">\n",
       "<title>(3, 2, 1)&#45;&gt;(2, 2, 0)</title>\n",
       "<path fill=\"none\" stroke=\"black\" d=\"M150.49,-648.41C159.82,-639 172.73,-627.12 184.63,-616.94\"/>\n",
       "<polygon fill=\"black\" stroke=\"black\" points=\"186.87,-619.64 192.3,-610.54 182.38,-614.27 186.87,-619.64\"/>\n",
       "</g>\n",
       "<!-- (3, 0, 0) -->\n",
       "<g id=\"node6\" class=\"node\">\n",
       "<title>(3, 0, 0)</title>\n",
       "<ellipse fill=\"none\" stroke=\"black\" cx=\"117.09\" cy=\"-594\" rx=\"40.09\" ry=\"18\"/>\n",
       "<text text-anchor=\"middle\" x=\"117.09\" y=\"-588.58\" font-family=\"Times New Roman,serif\" font-size=\"14.00\">(3, 0, 0)</text>\n",
       "</g>\n",
       "<!-- (3, 2, 1)&#45;&gt;(3, 0, 0) -->\n",
       "<g id=\"edge11\" class=\"edge\">\n",
       "<title>(3, 2, 1)&#45;&gt;(3, 0, 0)</title>\n",
       "<path fill=\"none\" stroke=\"black\" d=\"M127.27,-648.41C124.22,-640.96 121.25,-631.96 118.99,-623.48\"/>\n",
       "<polygon fill=\"black\" stroke=\"black\" points=\"122.43,-622.85 116.74,-613.92 115.62,-624.46 122.43,-622.85\"/>\n",
       "</g>\n",
       "<!-- (3, 0, 0)&#45;&gt;(3, 2, 1) -->\n",
       "<g id=\"edge13\" class=\"edge\">\n",
       "<title>(3, 0, 0)&#45;&gt;(3, 2, 1)</title>\n",
       "<path fill=\"none\" stroke=\"black\" d=\"M127.92,-611.62C130.97,-619.1 133.95,-628.14 136.22,-636.64\"/>\n",
       "<polygon fill=\"black\" stroke=\"black\" points=\"132.78,-637.29 138.47,-646.22 139.59,-635.69 132.78,-637.29\"/>\n",
       "</g>\n",
       "<!-- (3, 1, 1) -->\n",
       "<g id=\"node7\" class=\"node\">\n",
       "<title>(3, 1, 1)</title>\n",
       "<ellipse fill=\"none\" stroke=\"black\" cx=\"117.09\" cy=\"-522\" rx=\"40.09\" ry=\"18\"/>\n",
       "<text text-anchor=\"middle\" x=\"117.09\" y=\"-516.58\" font-family=\"Times New Roman,serif\" font-size=\"14.00\">(3, 1, 1)</text>\n",
       "</g>\n",
       "<!-- (3, 0, 0)&#45;&gt;(3, 1, 1) -->\n",
       "<g id=\"edge12\" class=\"edge\">\n",
       "<title>(3, 0, 0)&#45;&gt;(3, 1, 1)</title>\n",
       "<path fill=\"none\" stroke=\"black\" d=\"M111.21,-576.05C110.43,-568.68 110.17,-559.84 110.44,-551.51\"/>\n",
       "<polygon fill=\"black\" stroke=\"black\" points=\"113.92,-551.99 111.07,-541.79 106.93,-551.54 113.92,-551.99\"/>\n",
       "</g>\n",
       "<!-- (3, 1, 1)&#45;&gt;(3, 0, 0) -->\n",
       "<g id=\"edge15\" class=\"edge\">\n",
       "<title>(3, 1, 1)&#45;&gt;(3, 0, 0)</title>\n",
       "<path fill=\"none\" stroke=\"black\" d=\"M123,-540.28C123.76,-547.6 124,-556.34 123.73,-564.57\"/>\n",
       "<polygon fill=\"black\" stroke=\"black\" points=\"120.24,-564.33 123.06,-574.54 127.22,-564.8 120.24,-564.33\"/>\n",
       "</g>\n",
       "<!-- (1, 1, 0) -->\n",
       "<g id=\"node8\" class=\"node\">\n",
       "<title>(1, 1, 0)</title>\n",
       "<ellipse fill=\"none\" stroke=\"black\" cx=\"117.09\" cy=\"-450\" rx=\"40.09\" ry=\"18\"/>\n",
       "<text text-anchor=\"middle\" x=\"117.09\" y=\"-444.57\" font-family=\"Times New Roman,serif\" font-size=\"14.00\">(1, 1, 0)</text>\n",
       "</g>\n",
       "<!-- (3, 1, 1)&#45;&gt;(1, 1, 0) -->\n",
       "<g id=\"edge14\" class=\"edge\">\n",
       "<title>(3, 1, 1)&#45;&gt;(1, 1, 0)</title>\n",
       "<path fill=\"none\" stroke=\"black\" d=\"M111.21,-504.05C110.43,-496.68 110.17,-487.84 110.44,-479.51\"/>\n",
       "<polygon fill=\"black\" stroke=\"black\" points=\"113.92,-479.99 111.07,-469.79 106.93,-479.54 113.92,-479.99\"/>\n",
       "</g>\n",
       "<!-- (1, 1, 0)&#45;&gt;(3, 1, 1) -->\n",
       "<g id=\"edge16\" class=\"edge\">\n",
       "<title>(1, 1, 0)&#45;&gt;(3, 1, 1)</title>\n",
       "<path fill=\"none\" stroke=\"black\" d=\"M123,-468.28C123.76,-475.6 124,-484.34 123.73,-492.57\"/>\n",
       "<polygon fill=\"black\" stroke=\"black\" points=\"120.24,-492.33 123.06,-502.54 127.22,-492.8 120.24,-492.33\"/>\n",
       "</g>\n",
       "<!-- (2, 2, 1) -->\n",
       "<g id=\"node9\" class=\"node\">\n",
       "<title>(2, 2, 1)</title>\n",
       "<ellipse fill=\"none\" stroke=\"black\" cx=\"117.09\" cy=\"-378\" rx=\"40.09\" ry=\"18\"/>\n",
       "<text text-anchor=\"middle\" x=\"117.09\" y=\"-372.57\" font-family=\"Times New Roman,serif\" font-size=\"14.00\">(2, 2, 1)</text>\n",
       "</g>\n",
       "<!-- (1, 1, 0)&#45;&gt;(2, 2, 1) -->\n",
       "<g id=\"edge17\" class=\"edge\">\n",
       "<title>(1, 1, 0)&#45;&gt;(2, 2, 1)</title>\n",
       "<path fill=\"none\" stroke=\"black\" d=\"M111.21,-432.05C110.43,-424.68 110.17,-415.84 110.44,-407.51\"/>\n",
       "<polygon fill=\"black\" stroke=\"black\" points=\"113.92,-407.99 111.07,-397.79 106.93,-407.54 113.92,-407.99\"/>\n",
       "</g>\n",
       "<!-- (2, 2, 1)&#45;&gt;(1, 1, 0) -->\n",
       "<g id=\"edge19\" class=\"edge\">\n",
       "<title>(2, 2, 1)&#45;&gt;(1, 1, 0)</title>\n",
       "<path fill=\"none\" stroke=\"black\" d=\"M123,-396.28C123.76,-403.6 124,-412.34 123.73,-420.57\"/>\n",
       "<polygon fill=\"black\" stroke=\"black\" points=\"120.24,-420.33 123.06,-430.54 127.22,-420.8 120.24,-420.33\"/>\n",
       "</g>\n",
       "<!-- (0, 2, 0) -->\n",
       "<g id=\"node10\" class=\"node\">\n",
       "<title>(0, 2, 0)</title>\n",
       "<ellipse fill=\"none\" stroke=\"black\" cx=\"117.09\" cy=\"-306\" rx=\"40.09\" ry=\"18\"/>\n",
       "<text text-anchor=\"middle\" x=\"117.09\" y=\"-300.57\" font-family=\"Times New Roman,serif\" font-size=\"14.00\">(0, 2, 0)</text>\n",
       "</g>\n",
       "<!-- (2, 2, 1)&#45;&gt;(0, 2, 0) -->\n",
       "<g id=\"edge18\" class=\"edge\">\n",
       "<title>(2, 2, 1)&#45;&gt;(0, 2, 0)</title>\n",
       "<path fill=\"none\" stroke=\"black\" d=\"M111.21,-360.05C110.43,-352.68 110.17,-343.84 110.44,-335.51\"/>\n",
       "<polygon fill=\"black\" stroke=\"black\" points=\"113.92,-335.99 111.07,-325.79 106.93,-335.54 113.92,-335.99\"/>\n",
       "</g>\n",
       "<!-- (0, 2, 0)&#45;&gt;(2, 2, 1) -->\n",
       "<g id=\"edge20\" class=\"edge\">\n",
       "<title>(0, 2, 0)&#45;&gt;(2, 2, 1)</title>\n",
       "<path fill=\"none\" stroke=\"black\" d=\"M123,-324.28C123.76,-331.6 124,-340.34 123.73,-348.57\"/>\n",
       "<polygon fill=\"black\" stroke=\"black\" points=\"120.24,-348.33 123.06,-358.54 127.22,-348.8 120.24,-348.33\"/>\n",
       "</g>\n",
       "<!-- (0, 3, 1) -->\n",
       "<g id=\"node11\" class=\"node\">\n",
       "<title>(0, 3, 1)</title>\n",
       "<ellipse fill=\"none\" stroke=\"black\" cx=\"117.09\" cy=\"-234\" rx=\"40.09\" ry=\"18\"/>\n",
       "<text text-anchor=\"middle\" x=\"117.09\" y=\"-228.57\" font-family=\"Times New Roman,serif\" font-size=\"14.00\">(0, 3, 1)</text>\n",
       "</g>\n",
       "<!-- (0, 2, 0)&#45;&gt;(0, 3, 1) -->\n",
       "<g id=\"edge21\" class=\"edge\">\n",
       "<title>(0, 2, 0)&#45;&gt;(0, 3, 1)</title>\n",
       "<path fill=\"none\" stroke=\"black\" d=\"M111.21,-288.05C110.43,-280.68 110.17,-271.84 110.44,-263.51\"/>\n",
       "<polygon fill=\"black\" stroke=\"black\" points=\"113.92,-263.99 111.07,-253.79 106.93,-263.54 113.92,-263.99\"/>\n",
       "</g>\n",
       "<!-- (0, 3, 1)&#45;&gt;(0, 2, 0) -->\n",
       "<g id=\"edge22\" class=\"edge\">\n",
       "<title>(0, 3, 1)&#45;&gt;(0, 2, 0)</title>\n",
       "<path fill=\"none\" stroke=\"black\" d=\"M123,-252.28C123.76,-259.6 124,-268.34 123.73,-276.57\"/>\n",
       "<polygon fill=\"black\" stroke=\"black\" points=\"120.24,-276.33 123.06,-286.54 127.22,-276.8 120.24,-276.33\"/>\n",
       "</g>\n",
       "<!-- (0, 1, 0) -->\n",
       "<g id=\"node12\" class=\"node\">\n",
       "<title>(0, 1, 0)</title>\n",
       "<ellipse fill=\"none\" stroke=\"black\" cx=\"117.09\" cy=\"-162\" rx=\"40.09\" ry=\"18\"/>\n",
       "<text text-anchor=\"middle\" x=\"117.09\" y=\"-156.57\" font-family=\"Times New Roman,serif\" font-size=\"14.00\">(0, 1, 0)</text>\n",
       "</g>\n",
       "<!-- (0, 3, 1)&#45;&gt;(0, 1, 0) -->\n",
       "<g id=\"edge23\" class=\"edge\">\n",
       "<title>(0, 3, 1)&#45;&gt;(0, 1, 0)</title>\n",
       "<path fill=\"none\" stroke=\"black\" d=\"M111.21,-216.05C110.43,-208.68 110.17,-199.84 110.44,-191.51\"/>\n",
       "<polygon fill=\"black\" stroke=\"black\" points=\"113.92,-191.99 111.07,-181.79 106.93,-191.54 113.92,-191.99\"/>\n",
       "</g>\n",
       "<!-- (0, 1, 0)&#45;&gt;(0, 3, 1) -->\n",
       "<g id=\"edge26\" class=\"edge\">\n",
       "<title>(0, 1, 0)&#45;&gt;(0, 3, 1)</title>\n",
       "<path fill=\"none\" stroke=\"black\" d=\"M123,-180.28C123.76,-187.6 124,-196.34 123.73,-204.57\"/>\n",
       "<polygon fill=\"black\" stroke=\"black\" points=\"120.24,-204.33 123.06,-214.54 127.22,-204.8 120.24,-204.33\"/>\n",
       "</g>\n",
       "<!-- (1, 1, 1) -->\n",
       "<g id=\"node13\" class=\"node\">\n",
       "<title>(1, 1, 1)</title>\n",
       "<ellipse fill=\"none\" stroke=\"black\" cx=\"68.09\" cy=\"-90\" rx=\"40.09\" ry=\"18\"/>\n",
       "<text text-anchor=\"middle\" x=\"68.09\" y=\"-84.58\" font-family=\"Times New Roman,serif\" font-size=\"14.00\">(1, 1, 1)</text>\n",
       "</g>\n",
       "<!-- (0, 1, 0)&#45;&gt;(1, 1, 1) -->\n",
       "<g id=\"edge24\" class=\"edge\">\n",
       "<title>(0, 1, 0)&#45;&gt;(1, 1, 1)</title>\n",
       "<path fill=\"none\" stroke=\"black\" d=\"M100.49,-145.46C93.81,-137.3 86.36,-127.07 80.18,-117.68\"/>\n",
       "<polygon fill=\"black\" stroke=\"black\" points=\"83.17,-115.85 74.88,-109.24 77.24,-119.57 83.17,-115.85\"/>\n",
       "</g>\n",
       "<!-- (0, 2, 1) -->\n",
       "<g id=\"node14\" class=\"node\">\n",
       "<title>(0, 2, 1)</title>\n",
       "<ellipse fill=\"none\" stroke=\"black\" cx=\"166.09\" cy=\"-90\" rx=\"40.09\" ry=\"18\"/>\n",
       "<text text-anchor=\"middle\" x=\"166.09\" y=\"-84.58\" font-family=\"Times New Roman,serif\" font-size=\"14.00\">(0, 2, 1)</text>\n",
       "</g>\n",
       "<!-- (0, 1, 0)&#45;&gt;(0, 2, 1) -->\n",
       "<g id=\"edge25\" class=\"edge\">\n",
       "<title>(0, 1, 0)&#45;&gt;(0, 2, 1)</title>\n",
       "<path fill=\"none\" stroke=\"black\" d=\"M123.07,-144.05C128.12,-135.56 135.23,-125.11 142.29,-115.73\"/>\n",
       "<polygon fill=\"black\" stroke=\"black\" points=\"144.92,-118.06 148.32,-108.02 139.4,-113.74 144.92,-118.06\"/>\n",
       "</g>\n",
       "<!-- (1, 1, 1)&#45;&gt;(0, 1, 0) -->\n",
       "<g id=\"edge27\" class=\"edge\">\n",
       "<title>(1, 1, 1)&#45;&gt;(0, 1, 0)</title>\n",
       "<path fill=\"none\" stroke=\"black\" d=\"M84.92,-106.83C91.57,-114.97 98.94,-125.12 105.06,-134.43\"/>\n",
       "<polygon fill=\"black\" stroke=\"black\" points=\"102.02,-136.17 110.3,-142.77 107.94,-132.44 102.02,-136.17\"/>\n",
       "</g>\n",
       "<!-- (0, 0, 0) -->\n",
       "<g id=\"node15\" class=\"node\">\n",
       "<title>(0, 0, 0)</title>\n",
       "<ellipse fill=\"none\" stroke=\"black\" cx=\"117.09\" cy=\"-18\" rx=\"40.09\" ry=\"18\"/>\n",
       "<text text-anchor=\"middle\" x=\"117.09\" y=\"-12.57\" font-family=\"Times New Roman,serif\" font-size=\"14.00\">(0, 0, 0)</text>\n",
       "</g>\n",
       "<!-- (1, 1, 1)&#45;&gt;(0, 0, 0) -->\n",
       "<g id=\"edge28\" class=\"edge\">\n",
       "<title>(1, 1, 1)&#45;&gt;(0, 0, 0)</title>\n",
       "<path fill=\"none\" stroke=\"black\" d=\"M79.7,-72.41C85.5,-64.13 92.64,-53.92 99.12,-44.66\"/>\n",
       "<polygon fill=\"black\" stroke=\"black\" points=\"101.82,-46.91 104.69,-36.71 96.09,-42.9 101.82,-46.91\"/>\n",
       "</g>\n",
       "<!-- (0, 2, 1)&#45;&gt;(0, 1, 0) -->\n",
       "<g id=\"edge29\" class=\"edge\">\n",
       "<title>(0, 2, 1)&#45;&gt;(0, 1, 0)</title>\n",
       "<path fill=\"none\" stroke=\"black\" d=\"M160.09,-107.96C155,-116.53 147.81,-127.09 140.69,-136.52\"/>\n",
       "<polygon fill=\"black\" stroke=\"black\" points=\"138.03,-134.24 134.61,-144.27 143.54,-138.56 138.03,-134.24\"/>\n",
       "</g>\n",
       "<!-- (0, 2, 1)&#45;&gt;(0, 0, 0) -->\n",
       "<g id=\"edge30\" class=\"edge\">\n",
       "<title>(0, 2, 1)&#45;&gt;(0, 0, 0)</title>\n",
       "<path fill=\"none\" stroke=\"black\" d=\"M154.47,-72.41C148.68,-64.13 141.53,-53.92 135.05,-44.66\"/>\n",
       "<polygon fill=\"black\" stroke=\"black\" points=\"138.08,-42.9 129.48,-36.71 132.35,-46.91 138.08,-42.9\"/>\n",
       "</g>\n",
       "</g>\n",
       "</svg>\n"
      ],
      "text/plain": [
       "<graphviz.graphs.Digraph at 0x1e457fc4fd0>"
      ]
     },
     "execution_count": 55,
     "metadata": {},
     "output_type": "execute_result"
    }
   ],
   "source": [
    "G.visualize()"
   ]
  },
  {
   "cell_type": "markdown",
   "metadata": {},
   "source": [
    "Zadanie 6"
   ]
  },
  {
   "cell_type": "code",
   "execution_count": 59,
   "metadata": {},
   "outputs": [
    {
     "data": {
      "text/plain": [
       "<__main__.Vertex at 0x1e457f315e0>"
      ]
     },
     "execution_count": 59,
     "metadata": {},
     "output_type": "execute_result"
    }
   ],
   "source": [
    "G = Graph()\n",
    "G.add_vertex((0,0))"
   ]
  },
  {
   "cell_type": "code",
   "execution_count": 61,
   "metadata": {},
   "outputs": [],
   "source": [
    "def is_okay(a):\n",
    "    if a[0] in [0,1,2,3] and a[1] in [0,1,2,3,4]:\n",
    "        return True\n",
    "    else:\n",
    "        return False"
   ]
  },
  {
   "cell_type": "code",
   "execution_count": 63,
   "metadata": {},
   "outputs": [],
   "source": [
    "def left_to_right(b):\n",
    "    free_right = 4 - b[1]\n",
    "    a = (0,0)\n",
    "    if b[0] - free_right >= 0:\n",
    "        a = (b[0] - free_right, 4)\n",
    "    else:\n",
    "        a = (0, b[1] + b[0])\n",
    "    if is_okay(a):\n",
    "        return a"
   ]
  },
  {
   "cell_type": "code",
   "execution_count": null,
   "metadata": {},
   "outputs": [],
   "source": [
    "def right_to_left(b):\n",
    "    free_left = 3 - b[0]\n",
    "    if b[1] - free_left >= 0:\n",
    "        a = (b[0] - free_right, 4)\n",
    "    else:\n",
    "        a = (0, b[1] + b[0])\n",
    "    if is_okay(a):\n",
    "        return a"
   ]
  }
 ],
 "metadata": {
  "kernelspec": {
   "display_name": "Python 3",
   "language": "python",
   "name": "python3"
  },
  "language_info": {
   "codemirror_mode": {
    "name": "ipython",
    "version": 3
   },
   "file_extension": ".py",
   "mimetype": "text/x-python",
   "name": "python",
   "nbconvert_exporter": "python",
   "pygments_lexer": "ipython3",
   "version": "3.8.0"
  }
 },
 "nbformat": 4,
 "nbformat_minor": 2
}
