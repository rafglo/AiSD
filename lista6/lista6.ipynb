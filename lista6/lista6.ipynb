{
 "cells": [
  {
   "cell_type": "markdown",
   "metadata": {},
   "source": [
    "# **Lista 5** \n",
    "### Rafał Głodek\n",
    "***"
   ]
  },
  {
   "cell_type": "markdown",
   "metadata": {},
   "source": [
    "Zadanie 1"
   ]
  },
  {
   "cell_type": "code",
   "execution_count": 2,
   "metadata": {},
   "outputs": [],
   "source": [
    "import graphviz, sys"
   ]
  },
  {
   "cell_type": "code",
   "execution_count": 3,
   "metadata": {},
   "outputs": [],
   "source": [
    "class Vertex():\n",
    "    def __init__(self, key):\n",
    "        self.id = key\n",
    "        self.neighbors = {} \n",
    "\n",
    "    def add_neighbor(self, value, weight):\n",
    "        self.neighbors[value] = weight\n",
    "    \n",
    "    def __str__(self):\n",
    "        return \"Node: \" + str(self.id) + \" Neighbors: \" + str([i.id for i in self.neigbors])\n",
    "\n",
    "    def get_neighbors(self):\n",
    "        return [i.id for i in self.neighbors]\n",
    "    \n",
    "    def get_id(self):\n",
    "        return self.id\n",
    "    \n",
    "    def get_weight(self, neighbor):\n",
    "        return self.neighbors[neighbor]\n",
    "\n",
    "\n"
   ]
  },
  {
   "cell_type": "code",
   "execution_count": 4,
   "metadata": {},
   "outputs": [],
   "source": [
    "from collections import deque"
   ]
  },
  {
   "cell_type": "code",
   "execution_count": 12,
   "metadata": {},
   "outputs": [],
   "source": [
    "class Graph(Vertex):\n",
    "    def __init__(self):\n",
    "        self.vertices = {}\n",
    "        self.size = 0\n",
    "\n",
    "    def add_vertex(self, vert_key):\n",
    "        vertex = Vertex(vert_key)\n",
    "        self.vertices[vert_key] = vertex\n",
    "        self.size += 1\n",
    "        return vertex\n",
    "    \n",
    "    def __contains__(self, vert_key):\n",
    "        return vert_key in self.vertices\n",
    "    \n",
    "    def vertex(self, vert_key):\n",
    "        if vert_key in self.vertices:\n",
    "            return self.vertices[vert_key]\n",
    "        else:\n",
    "            return None\n",
    "        \n",
    "    def get_neighbors(self, vert_key):\n",
    "        if vert_key in self.vertices:\n",
    "            return self.vertices[vert_key].get_neighbors()\n",
    "        else:\n",
    "            return None\n",
    "\n",
    "    def get_vertices(self):\n",
    "        return [x for x in self.vertices]\n",
    "    \n",
    "    def add_edge(self, from_key, to_key, weight=0):\n",
    "        if from_key not in self.vertices:\n",
    "            self.add_vertex(from_key)\n",
    "        if to_key not in self.vertices:\n",
    "            self.add_vertex(to_key)\n",
    "        self.vertices[from_key].add_neighbor(self.vertices[to_key], weight)\n",
    "    \n",
    "    def get_edges(self):\n",
    "        edges = []\n",
    "        for vert in self.vertices:\n",
    "            neighbors = self.vertices[vert].get_neighbors()\n",
    "            if not neighbors is None:\n",
    "                for n in neighbors:\n",
    "                    edges.append(str(vert) + str(n))\n",
    "        return edges\n",
    "    \n",
    "    def visualize(self):\n",
    "        dot = graphviz.Digraph()\n",
    "        for vert in self.vertices:\n",
    "            dot.node(str(vert), str(vert))\n",
    "        for edge in self.get_edges():\n",
    "            dot.edge(str(edge[0]), str(edge[1]))\n",
    "        return dot\n",
    "        \n",
    "    def bfs(self, start):\n",
    "        visited = [start]\n",
    "        q = []\n",
    "        q.append(start)\n",
    "        while len(q):\n",
    "            vert = q.pop()\n",
    "            neighbors = self.vertices[vert].get_neighbors()\n",
    "            for neighbor in neighbors:\n",
    "                if not neighbor in visited:\n",
    "                    q.append(neighbor)\n",
    "                    visited.append(neighbor)\n",
    "        return visited\n",
    "\n",
    "    def dfs(self, start, visited = []):\n",
    "        if not start in visited:\n",
    "            visited.append(start)\n",
    "        neighbors = self.vertices[start].get_neighbors()\n",
    "        for neighbor in neighbors:\n",
    "            if not neighbor in visited:\n",
    "                self.dfs(neighbor, visited)\n",
    "        return visited\n",
    "\n",
    "    def dfs_topological_sort(self, start, stack, visited = []):\n",
    "        if not start in visited:\n",
    "            visited.append(start)\n",
    "        neighbors = self.vertices[start].get_neighbors()\n",
    "        for neighbor in neighbors:\n",
    "            if not neighbor in visited:\n",
    "                self.dfs_topological_sort(neighbor, stack, visited)\n",
    "        stack.append(start)\n",
    "\n",
    "    def topological_sort(self):\n",
    "        visited = []\n",
    "        stack = []\n",
    "\n",
    "        for vert in self.get_vertices():\n",
    "            if not vert in visited:\n",
    "                self.dfs_topological_sort(vert, stack, visited)\n",
    "        \n",
    "        return stack[::-1]"
   ]
  },
  {
   "cell_type": "code",
   "execution_count": 13,
   "metadata": {},
   "outputs": [],
   "source": [
    "g = Graph()\n",
    "g.add_edge(0, 1)\n",
    "g.add_edge(0, 2)\n",
    "g.add_edge(1, 2)\n",
    "g.add_edge(2, 0)\n",
    "g.add_edge(2, 3)\n",
    "g.add_edge(3, 4)\n",
    "g.add_edge(4, 7)\n",
    "g.add_edge(7, 8)\n",
    "g.add_edge(2,12)"
   ]
  },
  {
   "cell_type": "markdown",
   "metadata": {},
   "source": [
    "Zadanie 2"
   ]
  },
  {
   "cell_type": "code",
   "execution_count": 17,
   "metadata": {},
   "outputs": [
    {
     "data": {
      "image/svg+xml": [
       "<?xml version=\"1.0\" encoding=\"UTF-8\" standalone=\"no\"?>\n",
       "<!DOCTYPE svg PUBLIC \"-//W3C//DTD SVG 1.1//EN\"\n",
       " \"http://www.w3.org/Graphics/SVG/1.1/DTD/svg11.dtd\">\n",
       "<!-- Generated by graphviz version 9.0.0 (20230911.1827)\n",
       " -->\n",
       "<!-- Pages: 1 -->\n",
       "<svg width=\"198pt\" height=\"476pt\"\n",
       " viewBox=\"0.00 0.00 198.00 476.00\" xmlns=\"http://www.w3.org/2000/svg\" xmlns:xlink=\"http://www.w3.org/1999/xlink\">\n",
       "<g id=\"graph0\" class=\"graph\" transform=\"scale(1 1) rotate(0) translate(4 472)\">\n",
       "<polygon fill=\"white\" stroke=\"none\" points=\"-4,4 -4,-472 194,-472 194,4 -4,4\"/>\n",
       "<!-- 0 -->\n",
       "<g id=\"node1\" class=\"node\">\n",
       "<title>0</title>\n",
       "<ellipse fill=\"none\" stroke=\"black\" cx=\"91\" cy=\"-450\" rx=\"27\" ry=\"18\"/>\n",
       "<text text-anchor=\"middle\" x=\"91\" y=\"-444.57\" font-family=\"Times New Roman,serif\" font-size=\"14.00\">0</text>\n",
       "</g>\n",
       "<!-- 1 -->\n",
       "<g id=\"node2\" class=\"node\">\n",
       "<title>1</title>\n",
       "<ellipse fill=\"none\" stroke=\"black\" cx=\"27\" cy=\"-378\" rx=\"27\" ry=\"18\"/>\n",
       "<text text-anchor=\"middle\" x=\"27\" y=\"-372.57\" font-family=\"Times New Roman,serif\" font-size=\"14.00\">1</text>\n",
       "</g>\n",
       "<!-- 0&#45;&gt;1 -->\n",
       "<g id=\"edge1\" class=\"edge\">\n",
       "<title>0&#45;&gt;1</title>\n",
       "<path fill=\"none\" stroke=\"black\" d=\"M77.43,-434.15C68.94,-424.87 57.83,-412.73 48.2,-402.19\"/>\n",
       "<polygon fill=\"black\" stroke=\"black\" points=\"50.91,-399.96 41.57,-394.94 45.74,-404.68 50.91,-399.96\"/>\n",
       "</g>\n",
       "<!-- 2 -->\n",
       "<g id=\"node3\" class=\"node\">\n",
       "<title>2</title>\n",
       "<ellipse fill=\"none\" stroke=\"black\" cx=\"59\" cy=\"-306\" rx=\"27\" ry=\"18\"/>\n",
       "<text text-anchor=\"middle\" x=\"59\" y=\"-300.57\" font-family=\"Times New Roman,serif\" font-size=\"14.00\">2</text>\n",
       "</g>\n",
       "<!-- 0&#45;&gt;2 -->\n",
       "<g id=\"edge2\" class=\"edge\">\n",
       "<title>0&#45;&gt;2</title>\n",
       "<path fill=\"none\" stroke=\"black\" d=\"M82.74,-432.43C74.8,-408.64 64.51,-364.47 59.87,-335.41\"/>\n",
       "<polygon fill=\"black\" stroke=\"black\" points=\"63.39,-335.25 58.51,-325.84 56.46,-336.24 63.39,-335.25\"/>\n",
       "</g>\n",
       "<!-- 1&#45;&gt;2 -->\n",
       "<g id=\"edge3\" class=\"edge\">\n",
       "<title>1&#45;&gt;2</title>\n",
       "<path fill=\"none\" stroke=\"black\" d=\"M28.99,-359.7C31.92,-351.43 36.32,-341.38 40.93,-332.28\"/>\n",
       "<polygon fill=\"black\" stroke=\"black\" points=\"43.98,-334 45.65,-323.53 37.82,-330.67 43.98,-334\"/>\n",
       "</g>\n",
       "<!-- 2&#45;&gt;0 -->\n",
       "<g id=\"edge4\" class=\"edge\">\n",
       "<title>2&#45;&gt;0</title>\n",
       "<path fill=\"none\" stroke=\"black\" d=\"M67.15,-323.24C75.1,-346.92 85.44,-391.27 90.11,-420.48\"/>\n",
       "<polygon fill=\"black\" stroke=\"black\" points=\"86.6,-420.68 91.48,-430.09 93.53,-419.7 86.6,-420.68\"/>\n",
       "</g>\n",
       "<!-- 2&#45;&gt;1 -->\n",
       "<g id=\"edge6\" class=\"edge\">\n",
       "<title>2&#45;&gt;1</title>\n",
       "<path fill=\"none\" stroke=\"black\" d=\"M57.07,-324.13C54.12,-332.5 49.64,-342.74 44.94,-351.97\"/>\n",
       "<polygon fill=\"black\" stroke=\"black\" points=\"42.02,-350.02 40.34,-360.48 48.18,-353.35 42.02,-350.02\"/>\n",
       "</g>\n",
       "<!-- 3 -->\n",
       "<g id=\"node4\" class=\"node\">\n",
       "<title>3</title>\n",
       "<ellipse fill=\"none\" stroke=\"black\" cx=\"59\" cy=\"-234\" rx=\"27\" ry=\"18\"/>\n",
       "<text text-anchor=\"middle\" x=\"59\" y=\"-228.57\" font-family=\"Times New Roman,serif\" font-size=\"14.00\">3</text>\n",
       "</g>\n",
       "<!-- 2&#45;&gt;3 -->\n",
       "<g id=\"edge5\" class=\"edge\">\n",
       "<title>2&#45;&gt;3</title>\n",
       "<path fill=\"none\" stroke=\"black\" d=\"M59,-287.7C59,-280.41 59,-271.73 59,-263.54\"/>\n",
       "<polygon fill=\"black\" stroke=\"black\" points=\"62.5,-263.62 59,-253.62 55.5,-263.62 62.5,-263.62\"/>\n",
       "</g>\n",
       "<!-- 4 -->\n",
       "<g id=\"node5\" class=\"node\">\n",
       "<title>4</title>\n",
       "<ellipse fill=\"none\" stroke=\"black\" cx=\"59\" cy=\"-162\" rx=\"27\" ry=\"18\"/>\n",
       "<text text-anchor=\"middle\" x=\"59\" y=\"-156.57\" font-family=\"Times New Roman,serif\" font-size=\"14.00\">4</text>\n",
       "</g>\n",
       "<!-- 3&#45;&gt;4 -->\n",
       "<g id=\"edge7\" class=\"edge\">\n",
       "<title>3&#45;&gt;4</title>\n",
       "<path fill=\"none\" stroke=\"black\" d=\"M59,-215.7C59,-208.41 59,-199.73 59,-191.54\"/>\n",
       "<polygon fill=\"black\" stroke=\"black\" points=\"62.5,-191.62 59,-181.62 55.5,-191.62 62.5,-191.62\"/>\n",
       "</g>\n",
       "<!-- 7 -->\n",
       "<g id=\"node6\" class=\"node\">\n",
       "<title>7</title>\n",
       "<ellipse fill=\"none\" stroke=\"black\" cx=\"59\" cy=\"-90\" rx=\"27\" ry=\"18\"/>\n",
       "<text text-anchor=\"middle\" x=\"59\" y=\"-84.58\" font-family=\"Times New Roman,serif\" font-size=\"14.00\">7</text>\n",
       "</g>\n",
       "<!-- 4&#45;&gt;7 -->\n",
       "<g id=\"edge8\" class=\"edge\">\n",
       "<title>4&#45;&gt;7</title>\n",
       "<path fill=\"none\" stroke=\"black\" d=\"M59,-143.7C59,-136.41 59,-127.73 59,-119.54\"/>\n",
       "<polygon fill=\"black\" stroke=\"black\" points=\"62.5,-119.62 59,-109.62 55.5,-119.62 62.5,-119.62\"/>\n",
       "</g>\n",
       "<!-- 8 -->\n",
       "<g id=\"node7\" class=\"node\">\n",
       "<title>8</title>\n",
       "<ellipse fill=\"none\" stroke=\"black\" cx=\"59\" cy=\"-18\" rx=\"27\" ry=\"18\"/>\n",
       "<text text-anchor=\"middle\" x=\"59\" y=\"-12.57\" font-family=\"Times New Roman,serif\" font-size=\"14.00\">8</text>\n",
       "</g>\n",
       "<!-- 7&#45;&gt;8 -->\n",
       "<g id=\"edge9\" class=\"edge\">\n",
       "<title>7&#45;&gt;8</title>\n",
       "<path fill=\"none\" stroke=\"black\" d=\"M59,-71.7C59,-64.41 59,-55.73 59,-47.54\"/>\n",
       "<polygon fill=\"black\" stroke=\"black\" points=\"62.5,-47.62 59,-37.62 55.5,-47.62 62.5,-47.62\"/>\n",
       "</g>\n",
       "<!-- 12 -->\n",
       "<g id=\"node8\" class=\"node\">\n",
       "<title>12</title>\n",
       "<ellipse fill=\"none\" stroke=\"black\" cx=\"163\" cy=\"-450\" rx=\"27\" ry=\"18\"/>\n",
       "<text text-anchor=\"middle\" x=\"163\" y=\"-444.57\" font-family=\"Times New Roman,serif\" font-size=\"14.00\">12</text>\n",
       "</g>\n",
       "</g>\n",
       "</svg>\n"
      ],
      "text/plain": [
       "<graphviz.graphs.Digraph at 0x13a9e06b070>"
      ]
     },
     "execution_count": 17,
     "metadata": {},
     "output_type": "execute_result"
    }
   ],
   "source": [
    "g.visualize()"
   ]
  },
  {
   "cell_type": "markdown",
   "metadata": {},
   "source": [
    "Zadanie 3"
   ]
  },
  {
   "cell_type": "code",
   "execution_count": 14,
   "metadata": {},
   "outputs": [
    {
     "data": {
      "text/plain": [
       "[2, 0, 3, 12, 4, 7, 8, 1]"
      ]
     },
     "execution_count": 14,
     "metadata": {},
     "output_type": "execute_result"
    }
   ],
   "source": [
    "g.bfs(2)"
   ]
  },
  {
   "cell_type": "code",
   "execution_count": 15,
   "metadata": {},
   "outputs": [
    {
     "data": {
      "text/plain": [
       "[2, 0, 1, 3, 4, 7, 8, 12]"
      ]
     },
     "execution_count": 15,
     "metadata": {},
     "output_type": "execute_result"
    }
   ],
   "source": [
    "g.dfs(2)"
   ]
  },
  {
   "cell_type": "markdown",
   "metadata": {},
   "source": [
    "Zadanie 4"
   ]
  },
  {
   "cell_type": "code",
   "execution_count": 16,
   "metadata": {},
   "outputs": [
    {
     "data": {
      "text/plain": [
       "[0, 1, 2, 12, 3, 4, 7, 8]"
      ]
     },
     "execution_count": 16,
     "metadata": {},
     "output_type": "execute_result"
    }
   ],
   "source": [
    "g.topological_sort()"
   ]
  }
 ],
 "metadata": {
  "kernelspec": {
   "display_name": "Python 3",
   "language": "python",
   "name": "python3"
  },
  "language_info": {
   "codemirror_mode": {
    "name": "ipython",
    "version": 3
   },
   "file_extension": ".py",
   "mimetype": "text/x-python",
   "name": "python",
   "nbconvert_exporter": "python",
   "pygments_lexer": "ipython3",
   "version": "3.8.0"
  }
 },
 "nbformat": 4,
 "nbformat_minor": 2
}
